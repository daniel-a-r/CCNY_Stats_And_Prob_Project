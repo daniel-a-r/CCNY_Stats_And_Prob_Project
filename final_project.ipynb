{
 "cells": [
  {
   "cell_type": "markdown",
   "metadata": {},
   "source": [
    "# CSC 21700 Final Project"
   ]
  },
  {
   "cell_type": "markdown",
   "metadata": {},
   "source": [
    "## Intro\n",
    "\n",
    "For this project I am taking a look at gun data from [Enigma Public](https://public.enigma.com/datasets/d4f09262-4ce1-404b-9d8a-1b84ef22d362). More specifically, I will be taking a look the rates of lost/stolen/recovered guns as reported by law enforcement between states, status, offense that lead to the gun, gun type, and year. By looking at each variable independently, I will hope to answer questions such as which state had the highest rate of guns reported? What status most frequently? What was the trend betwee the years? What offenses showed up the most? And What was the most frequent gun type? I will also be taking a look at pair-wise relationships between the variables to answer questions such what states had the highest number of reporting each year? What were the most common gun types in the top states?\n",
    "\n",
    "Population was also taken into consideration so population data from the 2010 census was used to determine the number of guns reported per 100,000 people to compensate for differences in reporting from agencies. In the Enigma Public dataset, data prior to 2010 and after 2016 was removed since it is noticeably incomplete from the data from 2010 to 2016.\n",
    "\n",
    "The term 'reported' will be used in place of lost/stolen/recovered for simplicty"
   ]
  },
  {
   "cell_type": "code",
   "execution_count": 1,
   "metadata": {},
   "outputs": [],
   "source": [
    "import pandas as pd\n",
    "import matplotlib.pyplot as plt\n",
    "import numpy as np\n",
    "import seaborn as sns\n",
    "import scipy.stats as stats"
   ]
  },
  {
   "cell_type": "markdown",
   "metadata": {},
   "source": [
    "## Dataset"
   ]
  },
  {
   "cell_type": "code",
   "execution_count": 2,
   "metadata": {
    "scrolled": true
   },
   "outputs": [
    {
     "name": "stderr",
     "output_type": "stream",
     "text": [
      "C:\\Users\\Daniel\\AppData\\Roaming\\Python\\Python37\\site-packages\\IPython\\core\\interactiveshell.py:3049: DtypeWarning: Columns (13,16,17,18,19,20,23) have mixed types. Specify dtype option on import or set low_memory=False.\n",
      "  interactivity=interactivity, compiler=compiler, result=result)\n"
     ]
    },
    {
     "data": {
      "text/html": [
       "<div>\n",
       "<style scoped>\n",
       "    .dataframe tbody tr th:only-of-type {\n",
       "        vertical-align: middle;\n",
       "    }\n",
       "\n",
       "    .dataframe tbody tr th {\n",
       "        vertical-align: top;\n",
       "    }\n",
       "\n",
       "    .dataframe thead th {\n",
       "        text-align: right;\n",
       "    }\n",
       "</style>\n",
       "<table border=\"1\" class=\"dataframe\">\n",
       "  <thead>\n",
       "    <tr style=\"text-align: right;\">\n",
       "      <th></th>\n",
       "      <th>state</th>\n",
       "      <th>location</th>\n",
       "      <th>status</th>\n",
       "      <th>year</th>\n",
       "      <th>offense</th>\n",
       "      <th>gun type</th>\n",
       "    </tr>\n",
       "  </thead>\n",
       "  <tbody>\n",
       "    <tr>\n",
       "      <th>0</th>\n",
       "      <td>AZ</td>\n",
       "      <td>CHANDLER</td>\n",
       "      <td>RECOVERED</td>\n",
       "      <td>2013</td>\n",
       "      <td>ASLT AGG WEAPO</td>\n",
       "      <td>RIFLE</td>\n",
       "    </tr>\n",
       "    <tr>\n",
       "      <th>1</th>\n",
       "      <td>AZ</td>\n",
       "      <td>CHANDLER</td>\n",
       "      <td>RECOVERED</td>\n",
       "      <td>2013</td>\n",
       "      <td>INTIMIDATION</td>\n",
       "      <td>RIFLE</td>\n",
       "    </tr>\n",
       "    <tr>\n",
       "      <th>2</th>\n",
       "      <td>AZ</td>\n",
       "      <td>CHANDLER</td>\n",
       "      <td>RECOVERED</td>\n",
       "      <td>2013</td>\n",
       "      <td>WEAPONS</td>\n",
       "      <td>RIFLE</td>\n",
       "    </tr>\n",
       "    <tr>\n",
       "      <th>3</th>\n",
       "      <td>AZ</td>\n",
       "      <td>CHANDLER</td>\n",
       "      <td>RECOVERED</td>\n",
       "      <td>2013</td>\n",
       "      <td>OBST JUDICIAL</td>\n",
       "      <td>RIFLE</td>\n",
       "    </tr>\n",
       "    <tr>\n",
       "      <th>4</th>\n",
       "      <td>AZ</td>\n",
       "      <td>CHANDLER</td>\n",
       "      <td>RECOVERED</td>\n",
       "      <td>2013</td>\n",
       "      <td>ASLT AGG WEAPO</td>\n",
       "      <td>RIFLE</td>\n",
       "    </tr>\n",
       "    <tr>\n",
       "      <th>5</th>\n",
       "      <td>AZ</td>\n",
       "      <td>CHANDLER</td>\n",
       "      <td>RECOVERED</td>\n",
       "      <td>2013</td>\n",
       "      <td>INTIMIDATION</td>\n",
       "      <td>RIFLE</td>\n",
       "    </tr>\n",
       "    <tr>\n",
       "      <th>6</th>\n",
       "      <td>AZ</td>\n",
       "      <td>CHANDLER</td>\n",
       "      <td>RECOVERED</td>\n",
       "      <td>2013</td>\n",
       "      <td>WEAPONS</td>\n",
       "      <td>RIFLE</td>\n",
       "    </tr>\n",
       "    <tr>\n",
       "      <th>7</th>\n",
       "      <td>AZ</td>\n",
       "      <td>CHANDLER</td>\n",
       "      <td>RECOVERED</td>\n",
       "      <td>2013</td>\n",
       "      <td>OBST JUDICIAL</td>\n",
       "      <td>RIFLE</td>\n",
       "    </tr>\n",
       "    <tr>\n",
       "      <th>8</th>\n",
       "      <td>AZ</td>\n",
       "      <td>CHANDLER</td>\n",
       "      <td>RECOVERED</td>\n",
       "      <td>2013</td>\n",
       "      <td>ASLT AGG WEAPO</td>\n",
       "      <td>PISTOL</td>\n",
       "    </tr>\n",
       "    <tr>\n",
       "      <th>9</th>\n",
       "      <td>AZ</td>\n",
       "      <td>CHANDLER</td>\n",
       "      <td>RECOVERED</td>\n",
       "      <td>2013</td>\n",
       "      <td>INTIMIDATION</td>\n",
       "      <td>PISTOL</td>\n",
       "    </tr>\n",
       "    <tr>\n",
       "      <th>10</th>\n",
       "      <td>AZ</td>\n",
       "      <td>CHANDLER</td>\n",
       "      <td>RECOVERED</td>\n",
       "      <td>2013</td>\n",
       "      <td>WEAPONS</td>\n",
       "      <td>PISTOL</td>\n",
       "    </tr>\n",
       "    <tr>\n",
       "      <th>11</th>\n",
       "      <td>AZ</td>\n",
       "      <td>CHANDLER</td>\n",
       "      <td>RECOVERED</td>\n",
       "      <td>2013</td>\n",
       "      <td>OBST JUDICIAL</td>\n",
       "      <td>PISTOL</td>\n",
       "    </tr>\n",
       "    <tr>\n",
       "      <th>12</th>\n",
       "      <td>AZ</td>\n",
       "      <td>CHANDLER</td>\n",
       "      <td>RECOVERED</td>\n",
       "      <td>2013</td>\n",
       "      <td>WEAPONS</td>\n",
       "      <td>PISTOL</td>\n",
       "    </tr>\n",
       "    <tr>\n",
       "      <th>13</th>\n",
       "      <td>AZ</td>\n",
       "      <td>CHANDLER</td>\n",
       "      <td>RECOVERED</td>\n",
       "      <td>2013</td>\n",
       "      <td>DRUGS</td>\n",
       "      <td>PISTOL</td>\n",
       "    </tr>\n",
       "    <tr>\n",
       "      <th>14</th>\n",
       "      <td>AZ</td>\n",
       "      <td>CHANDLER</td>\n",
       "      <td>RECOVERED</td>\n",
       "      <td>2013</td>\n",
       "      <td>DRUGS</td>\n",
       "      <td>PISTOL</td>\n",
       "    </tr>\n",
       "    <tr>\n",
       "      <th>15</th>\n",
       "      <td>AZ</td>\n",
       "      <td>CHANDLER</td>\n",
       "      <td>RECOVERED</td>\n",
       "      <td>2013</td>\n",
       "      <td>DRUGS</td>\n",
       "      <td>PISTOL</td>\n",
       "    </tr>\n",
       "    <tr>\n",
       "      <th>16</th>\n",
       "      <td>AZ</td>\n",
       "      <td>CHANDLER</td>\n",
       "      <td>RECOVERED</td>\n",
       "      <td>2013</td>\n",
       "      <td>DRUGS</td>\n",
       "      <td>PISTOL</td>\n",
       "    </tr>\n",
       "    <tr>\n",
       "      <th>17</th>\n",
       "      <td>AZ</td>\n",
       "      <td>CHANDLER</td>\n",
       "      <td>RECOVERED</td>\n",
       "      <td>2013</td>\n",
       "      <td>ASSAULT</td>\n",
       "      <td>PISTOL</td>\n",
       "    </tr>\n",
       "    <tr>\n",
       "      <th>18</th>\n",
       "      <td>AZ</td>\n",
       "      <td>CHANDLER</td>\n",
       "      <td>RECOVERED</td>\n",
       "      <td>2013</td>\n",
       "      <td>THREAT</td>\n",
       "      <td>PISTOL</td>\n",
       "    </tr>\n",
       "    <tr>\n",
       "      <th>19</th>\n",
       "      <td>AZ</td>\n",
       "      <td>CHANDLER</td>\n",
       "      <td>RECOVERED</td>\n",
       "      <td>2013</td>\n",
       "      <td>INTIMIDATION</td>\n",
       "      <td>PISTOL</td>\n",
       "    </tr>\n",
       "    <tr>\n",
       "      <th>20</th>\n",
       "      <td>AZ</td>\n",
       "      <td>CHANDLER</td>\n",
       "      <td>RECOVERED</td>\n",
       "      <td>2013</td>\n",
       "      <td>WEAPONS</td>\n",
       "      <td>PISTOL</td>\n",
       "    </tr>\n",
       "    <tr>\n",
       "      <th>21</th>\n",
       "      <td>AZ</td>\n",
       "      <td>CHANDLER</td>\n",
       "      <td>RECOVERED</td>\n",
       "      <td>2013</td>\n",
       "      <td>PUBLIC PEACE</td>\n",
       "      <td>PISTOL</td>\n",
       "    </tr>\n",
       "    <tr>\n",
       "      <th>22</th>\n",
       "      <td>AZ</td>\n",
       "      <td>CHANDLER</td>\n",
       "      <td>RECOVERED</td>\n",
       "      <td>2013</td>\n",
       "      <td>WEAPONS</td>\n",
       "      <td>PISTOL</td>\n",
       "    </tr>\n",
       "    <tr>\n",
       "      <th>23</th>\n",
       "      <td>AZ</td>\n",
       "      <td>CHANDLER</td>\n",
       "      <td>RECOVERED</td>\n",
       "      <td>2013</td>\n",
       "      <td>WEAPONS</td>\n",
       "      <td>PISTOL</td>\n",
       "    </tr>\n",
       "    <tr>\n",
       "      <th>24</th>\n",
       "      <td>AZ</td>\n",
       "      <td>CHANDLER</td>\n",
       "      <td>RECOVERED</td>\n",
       "      <td>2013</td>\n",
       "      <td>WEAPONS</td>\n",
       "      <td>PISTOL</td>\n",
       "    </tr>\n",
       "    <tr>\n",
       "      <th>25</th>\n",
       "      <td>AZ</td>\n",
       "      <td>CHANDLER</td>\n",
       "      <td>RECOVERED</td>\n",
       "      <td>2013</td>\n",
       "      <td>DRUGS</td>\n",
       "      <td>PISTOL</td>\n",
       "    </tr>\n",
       "    <tr>\n",
       "      <th>26</th>\n",
       "      <td>AZ</td>\n",
       "      <td>CHANDLER</td>\n",
       "      <td>RECOVERED</td>\n",
       "      <td>2013</td>\n",
       "      <td>DRUGS</td>\n",
       "      <td>PISTOL</td>\n",
       "    </tr>\n",
       "    <tr>\n",
       "      <th>27</th>\n",
       "      <td>AZ</td>\n",
       "      <td>CHANDLER</td>\n",
       "      <td>RECOVERED</td>\n",
       "      <td>2013</td>\n",
       "      <td>DRUGS</td>\n",
       "      <td>PISTOL</td>\n",
       "    </tr>\n",
       "    <tr>\n",
       "      <th>28</th>\n",
       "      <td>AZ</td>\n",
       "      <td>CHANDLER</td>\n",
       "      <td>RECOVERED</td>\n",
       "      <td>2013</td>\n",
       "      <td>DRUGS</td>\n",
       "      <td>PISTOL</td>\n",
       "    </tr>\n",
       "    <tr>\n",
       "      <th>29</th>\n",
       "      <td>AZ</td>\n",
       "      <td>CHANDLER</td>\n",
       "      <td>RECOVERED</td>\n",
       "      <td>2013</td>\n",
       "      <td>DEATH INVST</td>\n",
       "      <td>RIFLE</td>\n",
       "    </tr>\n",
       "    <tr>\n",
       "      <th>...</th>\n",
       "      <td>...</td>\n",
       "      <td>...</td>\n",
       "      <td>...</td>\n",
       "      <td>...</td>\n",
       "      <td>...</td>\n",
       "      <td>...</td>\n",
       "    </tr>\n",
       "    <tr>\n",
       "      <th>168398</th>\n",
       "      <td>MD</td>\n",
       "      <td>BALTIMORE</td>\n",
       "      <td>STOLEN</td>\n",
       "      <td>2012</td>\n",
       "      <td>LARCENY FROM BUILDING</td>\n",
       "      <td>PISTOL</td>\n",
       "    </tr>\n",
       "    <tr>\n",
       "      <th>168399</th>\n",
       "      <td>MD</td>\n",
       "      <td>BALTIMORE</td>\n",
       "      <td>STOLEN</td>\n",
       "      <td>2013</td>\n",
       "      <td>BURGLARY RESIDENTIAL</td>\n",
       "      <td>PISTOL</td>\n",
       "    </tr>\n",
       "    <tr>\n",
       "      <th>168400</th>\n",
       "      <td>MD</td>\n",
       "      <td>BALTIMORE</td>\n",
       "      <td>RECOVERED (STOLEN)</td>\n",
       "      <td>2013</td>\n",
       "      <td>SEARCH AND SEIZURE</td>\n",
       "      <td>SHOTGUN</td>\n",
       "    </tr>\n",
       "    <tr>\n",
       "      <th>168401</th>\n",
       "      <td>MD</td>\n",
       "      <td>BALTIMORE</td>\n",
       "      <td>RECOVERED (STOLEN)</td>\n",
       "      <td>2013</td>\n",
       "      <td>RECOVERY PROPERTY</td>\n",
       "      <td>RIFLE</td>\n",
       "    </tr>\n",
       "    <tr>\n",
       "      <th>168402</th>\n",
       "      <td>MD</td>\n",
       "      <td>BALTIMORE</td>\n",
       "      <td>STOLEN</td>\n",
       "      <td>2013</td>\n",
       "      <td>BURGLARY RESIDENTIAL</td>\n",
       "      <td>PISTOL</td>\n",
       "    </tr>\n",
       "    <tr>\n",
       "      <th>168403</th>\n",
       "      <td>MD</td>\n",
       "      <td>BALTIMORE</td>\n",
       "      <td>STOLEN</td>\n",
       "      <td>2013</td>\n",
       "      <td>BURGLARY RESIDENTIAL</td>\n",
       "      <td>PISTOL</td>\n",
       "    </tr>\n",
       "    <tr>\n",
       "      <th>168404</th>\n",
       "      <td>MD</td>\n",
       "      <td>BALTIMORE</td>\n",
       "      <td>STOLEN</td>\n",
       "      <td>2013</td>\n",
       "      <td>ROBBERY COMMERCIAL FIREARM</td>\n",
       "      <td>PISTOL</td>\n",
       "    </tr>\n",
       "    <tr>\n",
       "      <th>168405</th>\n",
       "      <td>MD</td>\n",
       "      <td>BALTIMORE</td>\n",
       "      <td>STOLEN</td>\n",
       "      <td>2013</td>\n",
       "      <td>BURGLARY RESIDENTIAL</td>\n",
       "      <td>PISTOL</td>\n",
       "    </tr>\n",
       "    <tr>\n",
       "      <th>168406</th>\n",
       "      <td>MD</td>\n",
       "      <td>BALTIMORE</td>\n",
       "      <td>STOLEN</td>\n",
       "      <td>2013</td>\n",
       "      <td>LARCENY FROM AUTO</td>\n",
       "      <td>PISTOL</td>\n",
       "    </tr>\n",
       "    <tr>\n",
       "      <th>168407</th>\n",
       "      <td>MD</td>\n",
       "      <td>BALTIMORE</td>\n",
       "      <td>STOLEN</td>\n",
       "      <td>2013</td>\n",
       "      <td>BURGLARY RESIDENTIAL</td>\n",
       "      <td>PISTOL</td>\n",
       "    </tr>\n",
       "    <tr>\n",
       "      <th>168408</th>\n",
       "      <td>MD</td>\n",
       "      <td>BALTIMORE</td>\n",
       "      <td>STOLEN</td>\n",
       "      <td>2013</td>\n",
       "      <td>BURGLARY RESIDENTIAL</td>\n",
       "      <td>PISTOL</td>\n",
       "    </tr>\n",
       "    <tr>\n",
       "      <th>168409</th>\n",
       "      <td>MD</td>\n",
       "      <td>BALTIMORE</td>\n",
       "      <td>STOLEN</td>\n",
       "      <td>2013</td>\n",
       "      <td>BURGLARY RESIDENTIAL</td>\n",
       "      <td>PISTOL</td>\n",
       "    </tr>\n",
       "    <tr>\n",
       "      <th>168410</th>\n",
       "      <td>MD</td>\n",
       "      <td>BALTIMORE</td>\n",
       "      <td>STOLEN</td>\n",
       "      <td>2013</td>\n",
       "      <td>BURGLARY RESIDENTIAL</td>\n",
       "      <td>PISTOL</td>\n",
       "    </tr>\n",
       "    <tr>\n",
       "      <th>168411</th>\n",
       "      <td>MD</td>\n",
       "      <td>BALTIMORE</td>\n",
       "      <td>STOLEN</td>\n",
       "      <td>2013</td>\n",
       "      <td>BURGLARY RESIDENTIAL</td>\n",
       "      <td>PISTOL</td>\n",
       "    </tr>\n",
       "    <tr>\n",
       "      <th>168412</th>\n",
       "      <td>MD</td>\n",
       "      <td>BALTIMORE</td>\n",
       "      <td>STOLEN</td>\n",
       "      <td>2013</td>\n",
       "      <td>LARCENY FROM BUILDING</td>\n",
       "      <td>PISTOL</td>\n",
       "    </tr>\n",
       "    <tr>\n",
       "      <th>168413</th>\n",
       "      <td>MD</td>\n",
       "      <td>BALTIMORE</td>\n",
       "      <td>STOLEN</td>\n",
       "      <td>2013</td>\n",
       "      <td>BURGLARY RESIDENTIAL</td>\n",
       "      <td>PISTOL</td>\n",
       "    </tr>\n",
       "    <tr>\n",
       "      <th>168414</th>\n",
       "      <td>MD</td>\n",
       "      <td>BALTIMORE</td>\n",
       "      <td>STOLEN</td>\n",
       "      <td>2013</td>\n",
       "      <td>OTHER</td>\n",
       "      <td>PISTOL</td>\n",
       "    </tr>\n",
       "    <tr>\n",
       "      <th>168415</th>\n",
       "      <td>MD</td>\n",
       "      <td>BALTIMORE</td>\n",
       "      <td>RECOVERED (STOLEN)</td>\n",
       "      <td>2013</td>\n",
       "      <td>RECOVERY PROPERTY</td>\n",
       "      <td>PISTOL</td>\n",
       "    </tr>\n",
       "    <tr>\n",
       "      <th>168416</th>\n",
       "      <td>MD</td>\n",
       "      <td>BALTIMORE</td>\n",
       "      <td>STOLEN</td>\n",
       "      <td>2013</td>\n",
       "      <td>BURGLARY RESIDENTIAL</td>\n",
       "      <td>PISTOL</td>\n",
       "    </tr>\n",
       "    <tr>\n",
       "      <th>168417</th>\n",
       "      <td>MD</td>\n",
       "      <td>BALTIMORE</td>\n",
       "      <td>STOLEN</td>\n",
       "      <td>2013</td>\n",
       "      <td>BURGLARY RESIDENTIAL</td>\n",
       "      <td>PISTOL</td>\n",
       "    </tr>\n",
       "    <tr>\n",
       "      <th>168418</th>\n",
       "      <td>MD</td>\n",
       "      <td>BALTIMORE</td>\n",
       "      <td>STOLEN</td>\n",
       "      <td>2013</td>\n",
       "      <td>BURGLARY RESIDENTIAL</td>\n",
       "      <td>PISTOL</td>\n",
       "    </tr>\n",
       "    <tr>\n",
       "      <th>168419</th>\n",
       "      <td>MD</td>\n",
       "      <td>BALTIMORE</td>\n",
       "      <td>STOLEN</td>\n",
       "      <td>2013</td>\n",
       "      <td>LARCENY FROM BUILDING</td>\n",
       "      <td>PISTOL</td>\n",
       "    </tr>\n",
       "    <tr>\n",
       "      <th>168420</th>\n",
       "      <td>MD</td>\n",
       "      <td>BALTIMORE</td>\n",
       "      <td>STOLEN</td>\n",
       "      <td>2013</td>\n",
       "      <td>LARCENY FROM BUILDING</td>\n",
       "      <td>PISTOL</td>\n",
       "    </tr>\n",
       "    <tr>\n",
       "      <th>168421</th>\n",
       "      <td>MD</td>\n",
       "      <td>BALTIMORE</td>\n",
       "      <td>STOLEN</td>\n",
       "      <td>2013</td>\n",
       "      <td>BURGLARY RESIDENTIAL</td>\n",
       "      <td>PISTOL</td>\n",
       "    </tr>\n",
       "    <tr>\n",
       "      <th>168422</th>\n",
       "      <td>MD</td>\n",
       "      <td>BALTIMORE</td>\n",
       "      <td>STOLEN</td>\n",
       "      <td>2013</td>\n",
       "      <td>BURGLARY RESIDENTIAL</td>\n",
       "      <td>PISTOL</td>\n",
       "    </tr>\n",
       "    <tr>\n",
       "      <th>168423</th>\n",
       "      <td>MD</td>\n",
       "      <td>BALTIMORE</td>\n",
       "      <td>STOLEN</td>\n",
       "      <td>2013</td>\n",
       "      <td>LARCENY FROM BUILDING</td>\n",
       "      <td>PISTOL</td>\n",
       "    </tr>\n",
       "    <tr>\n",
       "      <th>168424</th>\n",
       "      <td>MD</td>\n",
       "      <td>BALTIMORE</td>\n",
       "      <td>STOLEN</td>\n",
       "      <td>2013</td>\n",
       "      <td>BURGLARY RESIDENTIAL</td>\n",
       "      <td>RIFLE/SHOTGUN/OTHER</td>\n",
       "    </tr>\n",
       "    <tr>\n",
       "      <th>168425</th>\n",
       "      <td>MD</td>\n",
       "      <td>BALTIMORE</td>\n",
       "      <td>RECOVERED (STOLEN)</td>\n",
       "      <td>2013</td>\n",
       "      <td>AGGRAVATED ASSAULT GUN</td>\n",
       "      <td>PISTOL</td>\n",
       "    </tr>\n",
       "    <tr>\n",
       "      <th>168426</th>\n",
       "      <td>MD</td>\n",
       "      <td>BALTIMORE</td>\n",
       "      <td>STOLEN</td>\n",
       "      <td>2013</td>\n",
       "      <td>LARCENY FROM AUTO</td>\n",
       "      <td>PISTOL</td>\n",
       "    </tr>\n",
       "    <tr>\n",
       "      <th>168427</th>\n",
       "      <td>MD</td>\n",
       "      <td>BALTIMORE</td>\n",
       "      <td>RECOVERED (STOLEN)</td>\n",
       "      <td>2013</td>\n",
       "      <td>SEARCH AND SEIZURE</td>\n",
       "      <td>PISTOL</td>\n",
       "    </tr>\n",
       "  </tbody>\n",
       "</table>\n",
       "<p>168428 rows × 6 columns</p>\n",
       "</div>"
      ],
      "text/plain": [
       "       state   location              status  year                     offense  \\\n",
       "0         AZ   CHANDLER           RECOVERED  2013              ASLT AGG WEAPO   \n",
       "1         AZ   CHANDLER           RECOVERED  2013                INTIMIDATION   \n",
       "2         AZ   CHANDLER           RECOVERED  2013                     WEAPONS   \n",
       "3         AZ   CHANDLER           RECOVERED  2013               OBST JUDICIAL   \n",
       "4         AZ   CHANDLER           RECOVERED  2013              ASLT AGG WEAPO   \n",
       "5         AZ   CHANDLER           RECOVERED  2013                INTIMIDATION   \n",
       "6         AZ   CHANDLER           RECOVERED  2013                     WEAPONS   \n",
       "7         AZ   CHANDLER           RECOVERED  2013               OBST JUDICIAL   \n",
       "8         AZ   CHANDLER           RECOVERED  2013              ASLT AGG WEAPO   \n",
       "9         AZ   CHANDLER           RECOVERED  2013                INTIMIDATION   \n",
       "10        AZ   CHANDLER           RECOVERED  2013                     WEAPONS   \n",
       "11        AZ   CHANDLER           RECOVERED  2013               OBST JUDICIAL   \n",
       "12        AZ   CHANDLER           RECOVERED  2013                     WEAPONS   \n",
       "13        AZ   CHANDLER           RECOVERED  2013                       DRUGS   \n",
       "14        AZ   CHANDLER           RECOVERED  2013                       DRUGS   \n",
       "15        AZ   CHANDLER           RECOVERED  2013                       DRUGS   \n",
       "16        AZ   CHANDLER           RECOVERED  2013                       DRUGS   \n",
       "17        AZ   CHANDLER           RECOVERED  2013                     ASSAULT   \n",
       "18        AZ   CHANDLER           RECOVERED  2013                      THREAT   \n",
       "19        AZ   CHANDLER           RECOVERED  2013                INTIMIDATION   \n",
       "20        AZ   CHANDLER           RECOVERED  2013                     WEAPONS   \n",
       "21        AZ   CHANDLER           RECOVERED  2013                PUBLIC PEACE   \n",
       "22        AZ   CHANDLER           RECOVERED  2013                     WEAPONS   \n",
       "23        AZ   CHANDLER           RECOVERED  2013                     WEAPONS   \n",
       "24        AZ   CHANDLER           RECOVERED  2013                     WEAPONS   \n",
       "25        AZ   CHANDLER           RECOVERED  2013                       DRUGS   \n",
       "26        AZ   CHANDLER           RECOVERED  2013                       DRUGS   \n",
       "27        AZ   CHANDLER           RECOVERED  2013                       DRUGS   \n",
       "28        AZ   CHANDLER           RECOVERED  2013                       DRUGS   \n",
       "29        AZ   CHANDLER           RECOVERED  2013                 DEATH INVST   \n",
       "...      ...        ...                 ...   ...                         ...   \n",
       "168398    MD  BALTIMORE              STOLEN  2012       LARCENY FROM BUILDING   \n",
       "168399    MD  BALTIMORE              STOLEN  2013        BURGLARY RESIDENTIAL   \n",
       "168400    MD  BALTIMORE  RECOVERED (STOLEN)  2013          SEARCH AND SEIZURE   \n",
       "168401    MD  BALTIMORE  RECOVERED (STOLEN)  2013           RECOVERY PROPERTY   \n",
       "168402    MD  BALTIMORE              STOLEN  2013        BURGLARY RESIDENTIAL   \n",
       "168403    MD  BALTIMORE              STOLEN  2013        BURGLARY RESIDENTIAL   \n",
       "168404    MD  BALTIMORE              STOLEN  2013  ROBBERY COMMERCIAL FIREARM   \n",
       "168405    MD  BALTIMORE              STOLEN  2013        BURGLARY RESIDENTIAL   \n",
       "168406    MD  BALTIMORE              STOLEN  2013           LARCENY FROM AUTO   \n",
       "168407    MD  BALTIMORE              STOLEN  2013        BURGLARY RESIDENTIAL   \n",
       "168408    MD  BALTIMORE              STOLEN  2013        BURGLARY RESIDENTIAL   \n",
       "168409    MD  BALTIMORE              STOLEN  2013        BURGLARY RESIDENTIAL   \n",
       "168410    MD  BALTIMORE              STOLEN  2013        BURGLARY RESIDENTIAL   \n",
       "168411    MD  BALTIMORE              STOLEN  2013        BURGLARY RESIDENTIAL   \n",
       "168412    MD  BALTIMORE              STOLEN  2013       LARCENY FROM BUILDING   \n",
       "168413    MD  BALTIMORE              STOLEN  2013        BURGLARY RESIDENTIAL   \n",
       "168414    MD  BALTIMORE              STOLEN  2013                       OTHER   \n",
       "168415    MD  BALTIMORE  RECOVERED (STOLEN)  2013           RECOVERY PROPERTY   \n",
       "168416    MD  BALTIMORE              STOLEN  2013        BURGLARY RESIDENTIAL   \n",
       "168417    MD  BALTIMORE              STOLEN  2013        BURGLARY RESIDENTIAL   \n",
       "168418    MD  BALTIMORE              STOLEN  2013        BURGLARY RESIDENTIAL   \n",
       "168419    MD  BALTIMORE              STOLEN  2013       LARCENY FROM BUILDING   \n",
       "168420    MD  BALTIMORE              STOLEN  2013       LARCENY FROM BUILDING   \n",
       "168421    MD  BALTIMORE              STOLEN  2013        BURGLARY RESIDENTIAL   \n",
       "168422    MD  BALTIMORE              STOLEN  2013        BURGLARY RESIDENTIAL   \n",
       "168423    MD  BALTIMORE              STOLEN  2013       LARCENY FROM BUILDING   \n",
       "168424    MD  BALTIMORE              STOLEN  2013        BURGLARY RESIDENTIAL   \n",
       "168425    MD  BALTIMORE  RECOVERED (STOLEN)  2013      AGGRAVATED ASSAULT GUN   \n",
       "168426    MD  BALTIMORE              STOLEN  2013           LARCENY FROM AUTO   \n",
       "168427    MD  BALTIMORE  RECOVERED (STOLEN)  2013          SEARCH AND SEIZURE   \n",
       "\n",
       "                   gun type  \n",
       "0                     RIFLE  \n",
       "1                     RIFLE  \n",
       "2                     RIFLE  \n",
       "3                     RIFLE  \n",
       "4                     RIFLE  \n",
       "5                     RIFLE  \n",
       "6                     RIFLE  \n",
       "7                     RIFLE  \n",
       "8                    PISTOL  \n",
       "9                    PISTOL  \n",
       "10                   PISTOL  \n",
       "11                   PISTOL  \n",
       "12                   PISTOL  \n",
       "13                   PISTOL  \n",
       "14                   PISTOL  \n",
       "15                   PISTOL  \n",
       "16                   PISTOL  \n",
       "17                   PISTOL  \n",
       "18                   PISTOL  \n",
       "19                   PISTOL  \n",
       "20                   PISTOL  \n",
       "21                   PISTOL  \n",
       "22                   PISTOL  \n",
       "23                   PISTOL  \n",
       "24                   PISTOL  \n",
       "25                   PISTOL  \n",
       "26                   PISTOL  \n",
       "27                   PISTOL  \n",
       "28                   PISTOL  \n",
       "29                    RIFLE  \n",
       "...                     ...  \n",
       "168398               PISTOL  \n",
       "168399               PISTOL  \n",
       "168400              SHOTGUN  \n",
       "168401                RIFLE  \n",
       "168402               PISTOL  \n",
       "168403               PISTOL  \n",
       "168404               PISTOL  \n",
       "168405               PISTOL  \n",
       "168406               PISTOL  \n",
       "168407               PISTOL  \n",
       "168408               PISTOL  \n",
       "168409               PISTOL  \n",
       "168410               PISTOL  \n",
       "168411               PISTOL  \n",
       "168412               PISTOL  \n",
       "168413               PISTOL  \n",
       "168414               PISTOL  \n",
       "168415               PISTOL  \n",
       "168416               PISTOL  \n",
       "168417               PISTOL  \n",
       "168418               PISTOL  \n",
       "168419               PISTOL  \n",
       "168420               PISTOL  \n",
       "168421               PISTOL  \n",
       "168422               PISTOL  \n",
       "168423               PISTOL  \n",
       "168424  RIFLE/SHOTGUN/OTHER  \n",
       "168425               PISTOL  \n",
       "168426               PISTOL  \n",
       "168427               PISTOL  \n",
       "\n",
       "[168428 rows x 6 columns]"
      ]
     },
     "execution_count": 2,
     "metadata": {},
     "output_type": "execute_result"
    }
   ],
   "source": [
    "df = pd.read_csv('475633aa-9ea6-4b01-a567-ed3e93d32301_MissingPiecesData.csv')\n",
    "#Reduce columns, remove rows with NaN\n",
    "df = df.filter(['state', 'location', 'status', 'year', 'offense', 'gun_type'], axis=1).dropna()\n",
    "#converts 'year' from a float to an integer\n",
    "df = df.astype({'year': 'int32'})\n",
    "#Removes 2017 and years before 2010\n",
    "df = df[(df['year'] > 2009) & (df['year'] < 2017)]\n",
    "df = df.reset_index()\n",
    "df = df.drop(columns='index')\n",
    "df = df.rename({'gun_type': 'gun type'}, axis=1)\n",
    "df"
   ]
  },
  {
   "cell_type": "markdown",
   "metadata": {},
   "source": [
    "### Definitions\n",
    "* LOST: Indicates a firearm that was reported lost.\n",
    "* LOST/STOLEN: Indicates a firearm that was reported lost or stolen. (Some agencies do not differentiate.)\n",
    "* STOLEN: Indicates a firearm that was reported stolen.\n",
    "* STOLEN (RECOVERED): Indicates a firearm that was reported stolen, where the record notes – either in the `agency_status` column or elsewhere – that the firearm was later recovered.\n",
    "* RECOVERED: Indicates a firearm that was seized or otherwise recovered by an agency.\n",
    "* RECOVERED (STOLEN): Indicates a firearm that was seized or otherwise recovered by an agency, where the record notes that the firearm was originally stolen."
   ]
  },
  {
   "cell_type": "markdown",
   "metadata": {},
   "source": [
    "## Visualizations And Single Variable Explorations"
   ]
  },
  {
   "cell_type": "code",
   "execution_count": 3,
   "metadata": {},
   "outputs": [],
   "source": [
    "def get_guns_per1(three_group_df, one_group_df):\n",
    "    result_list = []\n",
    "    key = three_group_df.columns[-2]\n",
    "    val_list = one_group_df[key]\n",
    "    \n",
    "    for val in val_list:\n",
    "        loc_pop_sum, result = 0, 0\n",
    "        locations = three_group_df[three_group_df[key] == val]['location']\n",
    "        count_sum = three_group_df[three_group_df[key] == val]['count'].sum()\n",
    "        for location in locations:\n",
    "            loc_pop = np.array(state_location[state_location['location'] == location]['population'])[0]\n",
    "            loc_pop_sum = loc_pop_sum + loc_pop\n",
    "        result = ((count_sum / loc_pop_sum) * 100000).round()\n",
    "        result_list.append(result)\n",
    "    \n",
    "    return result_list"
   ]
  },
  {
   "cell_type": "code",
   "execution_count": 4,
   "metadata": {},
   "outputs": [],
   "source": [
    "# numbers the graphs\n",
    "global fig_num\n",
    "fig_num = 0"
   ]
  },
  {
   "cell_type": "code",
   "execution_count": 5,
   "metadata": {},
   "outputs": [],
   "source": [
    "# Scrapes the abbreviations of US state names into a dataframe to later be put into a dictionary\n",
    "state_abbr = pd.read_html('https://en.wikipedia.org/wiki/List_of_U.S._state_abbreviations')\n",
    "state_abbr = state_abbr[0]\n",
    "column_names = []\n",
    "\n",
    "for i in range(len(state_abbr.columns)):\n",
    "    column_names.append(str(i))\n",
    "\n",
    "state_abbr.columns = column_names\n",
    "state_abbr = state_abbr.filter(['0', '3'], axis=1).rename({'0': 'state', '3': 'abbr'}, axis=1)\n",
    "state_abbr = state_abbr.dropna().reset_index().drop('index', axis=1)\n",
    "state_abbr = state_abbr[2:53].reset_index().drop('index', axis=1)"
   ]
  },
  {
   "cell_type": "code",
   "execution_count": 6,
   "metadata": {},
   "outputs": [],
   "source": [
    "# Turns the previous dataframe into a dictionary\n",
    "name_abbr = {}\n",
    "for i in range(len(state_abbr)):\n",
    "    name_abbr[state_abbr.iloc[i, 1]] = state_abbr.iloc[i, 0]"
   ]
  },
  {
   "cell_type": "code",
   "execution_count": 7,
   "metadata": {},
   "outputs": [],
   "source": [
    "# Dataframe for populations of towns, cities, counties, etc\n",
    "state_location = pd.DataFrame()\n",
    "state_location['count'] = df.groupby('state')['location'].value_counts()\n",
    "state_location = state_location.reset_index()"
   ]
  },
  {
   "cell_type": "code",
   "execution_count": 8,
   "metadata": {},
   "outputs": [],
   "source": [
    "# fetches populations of town towns, cities, counties, etc from wikipedia and 2010 census data\n",
    "pop = []\n",
    "for i in range(len(state_location)):\n",
    "    if 'ELK TWP' in state_location.iloc[i, 1]:\n",
    "        url_df = pd.read_html('https://en.wikipedia.org/wiki/Elk_Township,_New_Jersey')\n",
    "        url_df = url_df[1]\n",
    "        pop.append(int(url_df.iloc[11, 1]))\n",
    "    elif 'MEDFORD LAKES' in state_location.iloc[i, 1]:\n",
    "        url_df = pd.read_html('https://en.wikipedia.org/wiki/Medford_Lakes,_New_Jersey')\n",
    "        url_df = url_df[2]\n",
    "        pop.append(int(url_df.iloc[7, 1]))\n",
    "    elif 'TOWN' in state_location.iloc[i, 1] or 'COUNTY' in state_location.iloc[i, 1] or 'VILLAGE' in state_location.iloc[i, 1]:\n",
    "        city = state_location.iloc[i,1]\n",
    "        city = city.lower()\n",
    "        city = city.replace(' ', '')\n",
    "        state = name_abbr[state_location.iloc[i,0]]\n",
    "        state = state.lower()\n",
    "        state = state.replace(' ', '')\n",
    "        url = 'https://www.census.gov/quickfacts/fact/table/' + city + state + '/POP010210'\n",
    "        url_df = pd.read_html(url)\n",
    "        pop.append(int(url_df[0].iloc[0,1]))\n",
    "    else:\n",
    "        city = state_location.iloc[i,1] + 'city'\n",
    "        city = city.lower()\n",
    "        city = city.replace(' ', '')\n",
    "        state = name_abbr[state_location.iloc[i,0]]\n",
    "        state = state.lower()\n",
    "        state = state.replace(' ', '')\n",
    "        url = 'https://www.census.gov/quickfacts/fact/table/' + city + state + '/POP010210'\n",
    "        url_df = pd.read_html(url)\n",
    "        pop.append(int(url_df[0].iloc[0,1]))\n",
    "        \n",
    "state_location['population'] = pop\n",
    "state_location['guns per 100,000 people'] = ((state_location['count'] / state_location['population']) * 100000).round()\n",
    "state_location = state_location.astype({'guns per 100,000 people': 'int32'})\n",
    "state_location = state_location.sort_values('guns per 100,000 people', ascending=False)"
   ]
  },
  {
   "cell_type": "markdown",
   "metadata": {},
   "source": [
    "## Year"
   ]
  },
  {
   "cell_type": "code",
   "execution_count": 9,
   "metadata": {},
   "outputs": [
    {
     "data": {
      "text/html": [
       "<div>\n",
       "<style scoped>\n",
       "    .dataframe tbody tr th:only-of-type {\n",
       "        vertical-align: middle;\n",
       "    }\n",
       "\n",
       "    .dataframe tbody tr th {\n",
       "        vertical-align: top;\n",
       "    }\n",
       "\n",
       "    .dataframe thead th {\n",
       "        text-align: right;\n",
       "    }\n",
       "</style>\n",
       "<table border=\"1\" class=\"dataframe\">\n",
       "  <thead>\n",
       "    <tr style=\"text-align: right;\">\n",
       "      <th></th>\n",
       "      <th>year</th>\n",
       "      <th>count</th>\n",
       "      <th>guns per 100,000 people</th>\n",
       "    </tr>\n",
       "  </thead>\n",
       "  <tbody>\n",
       "    <tr>\n",
       "      <th>0</th>\n",
       "      <td>2010</td>\n",
       "      <td>24065</td>\n",
       "      <td>105</td>\n",
       "    </tr>\n",
       "    <tr>\n",
       "      <th>1</th>\n",
       "      <td>2011</td>\n",
       "      <td>23318</td>\n",
       "      <td>102</td>\n",
       "    </tr>\n",
       "    <tr>\n",
       "      <th>2</th>\n",
       "      <td>2012</td>\n",
       "      <td>24326</td>\n",
       "      <td>106</td>\n",
       "    </tr>\n",
       "    <tr>\n",
       "      <th>3</th>\n",
       "      <td>2013</td>\n",
       "      <td>25052</td>\n",
       "      <td>110</td>\n",
       "    </tr>\n",
       "    <tr>\n",
       "      <th>4</th>\n",
       "      <td>2014</td>\n",
       "      <td>22301</td>\n",
       "      <td>98</td>\n",
       "    </tr>\n",
       "    <tr>\n",
       "      <th>5</th>\n",
       "      <td>2015</td>\n",
       "      <td>25316</td>\n",
       "      <td>111</td>\n",
       "    </tr>\n",
       "    <tr>\n",
       "      <th>6</th>\n",
       "      <td>2016</td>\n",
       "      <td>24050</td>\n",
       "      <td>105</td>\n",
       "    </tr>\n",
       "  </tbody>\n",
       "</table>\n",
       "</div>"
      ],
      "text/plain": [
       "   year  count  guns per 100,000 people\n",
       "0  2010  24065                      105\n",
       "1  2011  23318                      102\n",
       "2  2012  24326                      106\n",
       "3  2013  25052                      110\n",
       "4  2014  22301                       98\n",
       "5  2015  25316                      111\n",
       "6  2016  24050                      105"
      ]
     },
     "execution_count": 9,
     "metadata": {},
     "output_type": "execute_result"
    }
   ],
   "source": [
    "year_df = df.groupby('year').size().reset_index()\n",
    "year_df = year_df.rename({0: 'count'}, axis=1)\n",
    "total_pop = state_location['population'].sum()\n",
    "year_df['guns per 100,000 people'] = (year_df['count'] / total_pop * 100000).round()\n",
    "year_df = year_df.astype({'guns per 100,000 people': 'int32'})\n",
    "year_df"
   ]
  },
  {
   "cell_type": "code",
   "execution_count": 10,
   "metadata": {},
   "outputs": [
    {
     "data": {
      "text/html": [
       "<div>\n",
       "<style scoped>\n",
       "    .dataframe tbody tr th:only-of-type {\n",
       "        vertical-align: middle;\n",
       "    }\n",
       "\n",
       "    .dataframe tbody tr th {\n",
       "        vertical-align: top;\n",
       "    }\n",
       "\n",
       "    .dataframe thead th {\n",
       "        text-align: right;\n",
       "    }\n",
       "</style>\n",
       "<table border=\"1\" class=\"dataframe\">\n",
       "  <thead>\n",
       "    <tr style=\"text-align: right;\">\n",
       "      <th></th>\n",
       "      <th>year</th>\n",
       "      <th>count</th>\n",
       "      <th>guns per 100,000 people</th>\n",
       "    </tr>\n",
       "  </thead>\n",
       "  <tbody>\n",
       "    <tr>\n",
       "      <th>5</th>\n",
       "      <td>2015</td>\n",
       "      <td>25316</td>\n",
       "      <td>111</td>\n",
       "    </tr>\n",
       "  </tbody>\n",
       "</table>\n",
       "</div>"
      ],
      "text/plain": [
       "   year  count  guns per 100,000 people\n",
       "5  2015  25316                      111"
      ]
     },
     "execution_count": 10,
     "metadata": {},
     "output_type": "execute_result"
    }
   ],
   "source": [
    "#year of highest guns per 100,000 people\n",
    "year_df[year_df['guns per 100,000 people'] == year_df['guns per 100,000 people'].max()]"
   ]
  },
  {
   "cell_type": "code",
   "execution_count": 11,
   "metadata": {},
   "outputs": [
    {
     "data": {
      "text/html": [
       "<div>\n",
       "<style scoped>\n",
       "    .dataframe tbody tr th:only-of-type {\n",
       "        vertical-align: middle;\n",
       "    }\n",
       "\n",
       "    .dataframe tbody tr th {\n",
       "        vertical-align: top;\n",
       "    }\n",
       "\n",
       "    .dataframe thead th {\n",
       "        text-align: right;\n",
       "    }\n",
       "</style>\n",
       "<table border=\"1\" class=\"dataframe\">\n",
       "  <thead>\n",
       "    <tr style=\"text-align: right;\">\n",
       "      <th></th>\n",
       "      <th>year</th>\n",
       "      <th>count</th>\n",
       "      <th>guns per 100,000 people</th>\n",
       "    </tr>\n",
       "  </thead>\n",
       "  <tbody>\n",
       "    <tr>\n",
       "      <th>4</th>\n",
       "      <td>2014</td>\n",
       "      <td>22301</td>\n",
       "      <td>98</td>\n",
       "    </tr>\n",
       "  </tbody>\n",
       "</table>\n",
       "</div>"
      ],
      "text/plain": [
       "   year  count  guns per 100,000 people\n",
       "4  2014  22301                       98"
      ]
     },
     "execution_count": 11,
     "metadata": {},
     "output_type": "execute_result"
    }
   ],
   "source": [
    "#year of lowest guns per 100,000 people\n",
    "year_df[year_df['guns per 100,000 people'] == year_df['guns per 100,000 people'].min()]"
   ]
  },
  {
   "cell_type": "code",
   "execution_count": 12,
   "metadata": {},
   "outputs": [
    {
     "name": "stdout",
     "output_type": "stream",
     "text": [
      "Mean: 105.28571428571429\n",
      "Median: 105.0\n",
      "Standard deviation: 4.46147530585589\n"
     ]
    }
   ],
   "source": [
    "print('Mean:', year_df['guns per 100,000 people'].mean())\n",
    "print('Median:', year_df['guns per 100,000 people'].median())\n",
    "print('Standard deviation:', year_df['guns per 100,000 people'].std())"
   ]
  },
  {
   "cell_type": "code",
   "execution_count": 13,
   "metadata": {
    "scrolled": true
   },
   "outputs": [
    {
     "data": {
      "image/png": "[encoded data removed]",
      "text/plain": [
       "<Figure size 540x360 with 1 Axes>"
      ]
     },
     "metadata": {
      "needs_background": "light"
     },
     "output_type": "display_data"
    }
   ],
   "source": [
    "fig = plt.figure(figsize=(7.5,5))\n",
    "plt.bar(year_df['year'], year_df['guns per 100,000 people'], edgecolor='black')\n",
    "plt.xlabel('Year', fontsize=12)\n",
    "plt.ylabel('Guns Per 100,000 People', fontsize=12)\n",
    "fig_num = fig_num + 1\n",
    "fig.suptitle('Figure {}. Count Of Reported Guns Per 100,000 People From 2010-2016'.format(fig_num), fontsize=15, y=0.925)\n",
    "plt.show()"
   ]
  },
  {
   "cell_type": "markdown",
   "metadata": {},
   "source": [
    "From 2010 to 2016, the rate of guns reported had a uniform distribution with 2015 having the highest rate at 111 guns per 100,000 people and 2014 having the lowest rate at 98 guns per 100,000 people. With the mean and median being similar to each other at 105.28571428571429 and 105 respectively, and a relatively low standard deviation at 4.46147530585589, it further supports the statement of the the distribution being uniform."
   ]
  },
  {
   "cell_type": "markdown",
   "metadata": {},
   "source": [
    "## State"
   ]
  },
  {
   "cell_type": "code",
   "execution_count": 14,
   "metadata": {},
   "outputs": [],
   "source": [
    "state_df = df['state'].value_counts().reset_index()\n",
    "state_df = state_df.rename({'index': 'state', 'state': 'count'}, axis=1)\n",
    "\n",
    "state_pop, per10000 = [], []\n",
    "for state in state_df['state']:\n",
    "    pop_sum = state_location[state_location['state'] == state]['population'].sum()\n",
    "    state_pop.append(pop_sum)\n",
    "    \n",
    "state_df['population'] = state_pop\n",
    "state_df['guns per 100,000 people'] = ((state_df['count'] / state_df['population']) * 100000).round()\n",
    "state_df = state_df.astype({'guns per 100,000 people': 'int32'})\n",
    "state_df = state_df.sort_values('guns per 100,000 people', ascending=False)"
   ]
  },
  {
   "cell_type": "code",
   "execution_count": 15,
   "metadata": {},
   "outputs": [
    {
     "data": {
      "text/html": [
       "<div>\n",
       "<style scoped>\n",
       "    .dataframe tbody tr th:only-of-type {\n",
       "        vertical-align: middle;\n",
       "    }\n",
       "\n",
       "    .dataframe tbody tr th {\n",
       "        vertical-align: top;\n",
       "    }\n",
       "\n",
       "    .dataframe thead th {\n",
       "        text-align: right;\n",
       "    }\n",
       "</style>\n",
       "<table border=\"1\" class=\"dataframe\">\n",
       "  <thead>\n",
       "    <tr style=\"text-align: right;\">\n",
       "      <th></th>\n",
       "      <th>state</th>\n",
       "      <th>count</th>\n",
       "      <th>population</th>\n",
       "      <th>guns per 100,000 people</th>\n",
       "    </tr>\n",
       "  </thead>\n",
       "  <tbody>\n",
       "    <tr>\n",
       "      <th>3</th>\n",
       "      <td>MO</td>\n",
       "      <td>16016</td>\n",
       "      <td>319294</td>\n",
       "      <td>5016</td>\n",
       "    </tr>\n",
       "    <tr>\n",
       "      <th>1</th>\n",
       "      <td>MD</td>\n",
       "      <td>29808</td>\n",
       "      <td>620961</td>\n",
       "      <td>4800</td>\n",
       "    </tr>\n",
       "    <tr>\n",
       "      <th>6</th>\n",
       "      <td>NY</td>\n",
       "      <td>6515</td>\n",
       "      <td>210565</td>\n",
       "      <td>3094</td>\n",
       "    </tr>\n",
       "    <tr>\n",
       "      <th>10</th>\n",
       "      <td>KS</td>\n",
       "      <td>1607</td>\n",
       "      <td>127473</td>\n",
       "      <td>1261</td>\n",
       "    </tr>\n",
       "    <tr>\n",
       "      <th>9</th>\n",
       "      <td>AZ</td>\n",
       "      <td>2829</td>\n",
       "      <td>236123</td>\n",
       "      <td>1198</td>\n",
       "    </tr>\n",
       "    <tr>\n",
       "      <th>4</th>\n",
       "      <td>WA</td>\n",
       "      <td>14523</td>\n",
       "      <td>1259405</td>\n",
       "      <td>1153</td>\n",
       "    </tr>\n",
       "    <tr>\n",
       "      <th>5</th>\n",
       "      <td>CO</td>\n",
       "      <td>12671</td>\n",
       "      <td>1366839</td>\n",
       "      <td>927</td>\n",
       "    </tr>\n",
       "    <tr>\n",
       "      <th>0</th>\n",
       "      <td>TX</td>\n",
       "      <td>43147</td>\n",
       "      <td>4939812</td>\n",
       "      <td>873</td>\n",
       "    </tr>\n",
       "    <tr>\n",
       "      <th>2</th>\n",
       "      <td>CA</td>\n",
       "      <td>29558</td>\n",
       "      <td>3637739</td>\n",
       "      <td>813</td>\n",
       "    </tr>\n",
       "    <tr>\n",
       "      <th>7</th>\n",
       "      <td>OR</td>\n",
       "      <td>4244</td>\n",
       "      <td>583776</td>\n",
       "      <td>727</td>\n",
       "    </tr>\n",
       "    <tr>\n",
       "      <th>13</th>\n",
       "      <td>NC</td>\n",
       "      <td>635</td>\n",
       "      <td>104371</td>\n",
       "      <td>608</td>\n",
       "    </tr>\n",
       "    <tr>\n",
       "      <th>8</th>\n",
       "      <td>FL</td>\n",
       "      <td>3689</td>\n",
       "      <td>1067187</td>\n",
       "      <td>346</td>\n",
       "    </tr>\n",
       "    <tr>\n",
       "      <th>12</th>\n",
       "      <td>WI</td>\n",
       "      <td>754</td>\n",
       "      <td>233209</td>\n",
       "      <td>323</td>\n",
       "    </tr>\n",
       "    <tr>\n",
       "      <th>14</th>\n",
       "      <td>IN</td>\n",
       "      <td>523</td>\n",
       "      <td>428740</td>\n",
       "      <td>122</td>\n",
       "    </tr>\n",
       "    <tr>\n",
       "      <th>15</th>\n",
       "      <td>NJ</td>\n",
       "      <td>268</td>\n",
       "      <td>316073</td>\n",
       "      <td>85</td>\n",
       "    </tr>\n",
       "    <tr>\n",
       "      <th>11</th>\n",
       "      <td>IL</td>\n",
       "      <td>1599</td>\n",
       "      <td>6697972</td>\n",
       "      <td>24</td>\n",
       "    </tr>\n",
       "    <tr>\n",
       "      <th>16</th>\n",
       "      <td>MI</td>\n",
       "      <td>42</td>\n",
       "      <td>713777</td>\n",
       "      <td>6</td>\n",
       "    </tr>\n",
       "  </tbody>\n",
       "</table>\n",
       "</div>"
      ],
      "text/plain": [
       "   state  count  population  guns per 100,000 people\n",
       "3     MO  16016      319294                     5016\n",
       "1     MD  29808      620961                     4800\n",
       "6     NY   6515      210565                     3094\n",
       "10    KS   1607      127473                     1261\n",
       "9     AZ   2829      236123                     1198\n",
       "4     WA  14523     1259405                     1153\n",
       "5     CO  12671     1366839                      927\n",
       "0     TX  43147     4939812                      873\n",
       "2     CA  29558     3637739                      813\n",
       "7     OR   4244      583776                      727\n",
       "13    NC    635      104371                      608\n",
       "8     FL   3689     1067187                      346\n",
       "12    WI    754      233209                      323\n",
       "14    IN    523      428740                      122\n",
       "15    NJ    268      316073                       85\n",
       "11    IL   1599     6697972                       24\n",
       "16    MI     42      713777                        6"
      ]
     },
     "execution_count": 15,
     "metadata": {},
     "output_type": "execute_result"
    }
   ],
   "source": [
    "state_df"
   ]
  },
  {
   "cell_type": "code",
   "execution_count": 16,
   "metadata": {},
   "outputs": [
    {
     "name": "stdout",
     "output_type": "stream",
     "text": [
      "Mean: 1257.4117647058824\n",
      "Median: 813.0\n",
      "Standard deviation: 1554.766423728317\n"
     ]
    }
   ],
   "source": [
    "print('Mean:', state_df['guns per 100,000 people'].mean())\n",
    "print('Median:', state_df['guns per 100,000 people'].median())\n",
    "print('Standard deviation:', state_df['guns per 100,000 people'].std())"
   ]
  },
  {
   "cell_type": "code",
   "execution_count": 17,
   "metadata": {},
   "outputs": [
    {
     "data": {
      "image/png": "[encoded data removed]",
      "text/plain": [
       "<Figure size 540x540 with 1 Axes>"
      ]
     },
     "metadata": {
      "needs_background": "light"
     },
     "output_type": "display_data"
    }
   ],
   "source": [
    "fig = plt.figure(figsize=(7.5,7.5))\n",
    "plt.bar(x=state_df['state'], height=state_df['guns per 100,000 people'], edgecolor='black')\n",
    "plt.xlabel('State', fontsize=12)\n",
    "plt.ylabel('Guns Per 100,000 People', fontsize=12)\n",
    "fig_num = fig_num + 1\n",
    "fig.suptitle('Figure {}. Reported Guns Per 100,000 People In Each State'.format(fig_num), fontsize=15, y=0.925)\n",
    "plt.show()"
   ]
  },
  {
   "cell_type": "code",
   "execution_count": 18,
   "metadata": {},
   "outputs": [
    {
     "data": {
      "image/png": "[encoded data removed]",
      "text/plain": [
       "<Figure size 540x540 with 1 Axes>"
      ]
     },
     "metadata": {
      "needs_background": "light"
     },
     "output_type": "display_data"
    }
   ],
   "source": [
    "fig = plt.figure(figsize=(7.5,7.5))\n",
    "plt.boxplot(state_df['guns per 100,000 people'])\n",
    "plt.xlabel('State', fontsize=12)\n",
    "plt.ylabel('Guns Per 100,000 People', fontsize=12)\n",
    "fig_num = fig_num + 1\n",
    "fig.suptitle('Figure {}. Reported Guns Per 100,000 People In Each State'.format(fig_num), fontsize=15, y=0.925)\n",
    "plt.show()"
   ]
  },
  {
   "cell_type": "code",
   "execution_count": 19,
   "metadata": {},
   "outputs": [
    {
     "data": {
      "text/plain": [
       "2510.5"
      ]
     },
     "execution_count": 19,
     "metadata": {},
     "output_type": "execute_result"
    }
   ],
   "source": [
    "# upper cutoff\n",
    "state_df['guns per 100,000 people'].quantile(0.75) + (1.5 * (state_df['guns per 100,000 people'].quantile(0.75) - state_df['guns per 100,000 people'].quantile(0.25)))"
   ]
  },
  {
   "cell_type": "code",
   "execution_count": 20,
   "metadata": {},
   "outputs": [
    {
     "data": {
      "text/html": [
       "<div>\n",
       "<style scoped>\n",
       "    .dataframe tbody tr th:only-of-type {\n",
       "        vertical-align: middle;\n",
       "    }\n",
       "\n",
       "    .dataframe tbody tr th {\n",
       "        vertical-align: top;\n",
       "    }\n",
       "\n",
       "    .dataframe thead th {\n",
       "        text-align: right;\n",
       "    }\n",
       "</style>\n",
       "<table border=\"1\" class=\"dataframe\">\n",
       "  <thead>\n",
       "    <tr style=\"text-align: right;\">\n",
       "      <th></th>\n",
       "      <th>state</th>\n",
       "      <th>count</th>\n",
       "      <th>population</th>\n",
       "      <th>guns per 100,000 people</th>\n",
       "    </tr>\n",
       "  </thead>\n",
       "  <tbody>\n",
       "    <tr>\n",
       "      <th>3</th>\n",
       "      <td>MO</td>\n",
       "      <td>16016</td>\n",
       "      <td>319294</td>\n",
       "      <td>5016</td>\n",
       "    </tr>\n",
       "    <tr>\n",
       "      <th>1</th>\n",
       "      <td>MD</td>\n",
       "      <td>29808</td>\n",
       "      <td>620961</td>\n",
       "      <td>4800</td>\n",
       "    </tr>\n",
       "    <tr>\n",
       "      <th>6</th>\n",
       "      <td>NY</td>\n",
       "      <td>6515</td>\n",
       "      <td>210565</td>\n",
       "      <td>3094</td>\n",
       "    </tr>\n",
       "  </tbody>\n",
       "</table>\n",
       "</div>"
      ],
      "text/plain": [
       "  state  count  population  guns per 100,000 people\n",
       "3    MO  16016      319294                     5016\n",
       "1    MD  29808      620961                     4800\n",
       "6    NY   6515      210565                     3094"
      ]
     },
     "execution_count": 20,
     "metadata": {},
     "output_type": "execute_result"
    }
   ],
   "source": [
    "state_df[state_df['guns per 100,000 people'] > 2510.5]"
   ]
  },
  {
   "cell_type": "markdown",
   "metadata": {},
   "source": [
    "When broken down by states, the mean number of reported guns per 100,000 people is 1257.4117647058824 while the median is 813. It is visible from the bar chart that Missouri, Maryland, and New York are skewing the mean and they are potentional outliers. To formally prove there are outliers, a boxplot is used and it can be seen from the boxplot that there are three outliers. When calculating the formal upper cutoff and filter out the rows that are below the cutoff, it is confirmed that Missouri, Maryland, and New York are the outliers. "
   ]
  },
  {
   "cell_type": "markdown",
   "metadata": {},
   "source": [
    "## Status"
   ]
  },
  {
   "cell_type": "code",
   "execution_count": 21,
   "metadata": {},
   "outputs": [
    {
     "data": {
      "text/html": [
       "<div>\n",
       "<style scoped>\n",
       "    .dataframe tbody tr th:only-of-type {\n",
       "        vertical-align: middle;\n",
       "    }\n",
       "\n",
       "    .dataframe tbody tr th {\n",
       "        vertical-align: top;\n",
       "    }\n",
       "\n",
       "    .dataframe thead th {\n",
       "        text-align: right;\n",
       "    }\n",
       "</style>\n",
       "<table border=\"1\" class=\"dataframe\">\n",
       "  <thead>\n",
       "    <tr style=\"text-align: right;\">\n",
       "      <th></th>\n",
       "      <th>status</th>\n",
       "      <th>count</th>\n",
       "      <th>guns per 100,000 people</th>\n",
       "    </tr>\n",
       "  </thead>\n",
       "  <tbody>\n",
       "    <tr>\n",
       "      <th>0</th>\n",
       "      <td>RECOVERED</td>\n",
       "      <td>133253</td>\n",
       "      <td>711</td>\n",
       "    </tr>\n",
       "    <tr>\n",
       "      <th>2</th>\n",
       "      <td>LOST/STOLEN</td>\n",
       "      <td>8789</td>\n",
       "      <td>514</td>\n",
       "    </tr>\n",
       "    <tr>\n",
       "      <th>1</th>\n",
       "      <td>STOLEN</td>\n",
       "      <td>21198</td>\n",
       "      <td>230</td>\n",
       "    </tr>\n",
       "    <tr>\n",
       "      <th>3</th>\n",
       "      <td>RECOVERED (STOLEN)</td>\n",
       "      <td>4026</td>\n",
       "      <td>63</td>\n",
       "    </tr>\n",
       "    <tr>\n",
       "      <th>4</th>\n",
       "      <td>STOLEN (RECOVERED)</td>\n",
       "      <td>792</td>\n",
       "      <td>29</td>\n",
       "    </tr>\n",
       "    <tr>\n",
       "      <th>5</th>\n",
       "      <td>LOST</td>\n",
       "      <td>370</td>\n",
       "      <td>10</td>\n",
       "    </tr>\n",
       "  </tbody>\n",
       "</table>\n",
       "</div>"
      ],
      "text/plain": [
       "               status   count  guns per 100,000 people\n",
       "0           RECOVERED  133253                      711\n",
       "2         LOST/STOLEN    8789                      514\n",
       "1              STOLEN   21198                      230\n",
       "3  RECOVERED (STOLEN)    4026                       63\n",
       "4  STOLEN (RECOVERED)     792                       29\n",
       "5                LOST     370                       10"
      ]
     },
     "execution_count": 21,
     "metadata": {},
     "output_type": "execute_result"
    }
   ],
   "source": [
    "result_list = []\n",
    "status_df = df['status'].value_counts().reset_index()\n",
    "status_df = status_df.rename({'index': 'status', 'status': 'count'}, axis=1)\n",
    "state_location_status = df.groupby(['state', 'location', 'status']).size().reset_index().rename({0: 'count'}, axis=1)\n",
    "status_list = status_df['status']\n",
    "status_df['guns per 100,000 people'] = get_guns_per1(state_location_status, status_df)\n",
    "status_df = status_df.astype({'guns per 100,000 people': 'int32'})\n",
    "status_df = status_df.sort_values('guns per 100,000 people', ascending=False)\n",
    "status_df"
   ]
  },
  {
   "cell_type": "code",
   "execution_count": 22,
   "metadata": {},
   "outputs": [
    {
     "name": "stdout",
     "output_type": "stream",
     "text": [
      "Mean: 259.5\n",
      "Median: 146.5\n",
      "Standard deviation: 291.02766191549557\n"
     ]
    }
   ],
   "source": [
    "print('Mean:', status_df['guns per 100,000 people'].mean())\n",
    "print('Median:', status_df['guns per 100,000 people'].median())\n",
    "print('Standard deviation:', status_df['guns per 100,000 people'].std())"
   ]
  },
  {
   "cell_type": "code",
   "execution_count": 23,
   "metadata": {},
   "outputs": [
    {
     "data": {
      "image/png": "[encoded data removed]",
      "text/plain": [
       "<Figure size 1080x360 with 1 Axes>"
      ]
     },
     "metadata": {
      "needs_background": "light"
     },
     "output_type": "display_data"
    }
   ],
   "source": [
    "fig = plt.figure(figsize=(15,5))\n",
    "plt.bar(status_df['status'], status_df['guns per 100,000 people'], edgecolor='black')\n",
    "plt.xlabel('Status', fontsize=12)\n",
    "plt.ylabel('Guns Per 100,000 People', fontsize=12)\n",
    "fig_num = fig_num + 1\n",
    "fig.suptitle('Figure {}. Status of Guns Per 100,000 People'.format(fig_num), fontsize=15, y=0.925)\n",
    "plt.show()"
   ]
  },
  {
   "cell_type": "markdown",
   "metadata": {},
   "source": [
    "When looking at the guns per 100,000 people by status, most of the guns have been recovered, While the least amount has been reported lost"
   ]
  },
  {
   "cell_type": "markdown",
   "metadata": {},
   "source": [
    "## Gun Type"
   ]
  },
  {
   "cell_type": "code",
   "execution_count": 24,
   "metadata": {
    "scrolled": true
   },
   "outputs": [
    {
     "data": {
      "text/html": [
       "<div>\n",
       "<style scoped>\n",
       "    .dataframe tbody tr th:only-of-type {\n",
       "        vertical-align: middle;\n",
       "    }\n",
       "\n",
       "    .dataframe tbody tr th {\n",
       "        vertical-align: top;\n",
       "    }\n",
       "\n",
       "    .dataframe thead th {\n",
       "        text-align: right;\n",
       "    }\n",
       "</style>\n",
       "<table border=\"1\" class=\"dataframe\">\n",
       "  <thead>\n",
       "    <tr style=\"text-align: right;\">\n",
       "      <th></th>\n",
       "      <th>gun type</th>\n",
       "      <th>count</th>\n",
       "      <th>guns per 100,000 people</th>\n",
       "    </tr>\n",
       "  </thead>\n",
       "  <tbody>\n",
       "    <tr>\n",
       "      <th>0</th>\n",
       "      <td>PISTOL</td>\n",
       "      <td>116196</td>\n",
       "      <td>512</td>\n",
       "    </tr>\n",
       "    <tr>\n",
       "      <th>12</th>\n",
       "      <td>LONG GUN</td>\n",
       "      <td>5</td>\n",
       "      <td>119</td>\n",
       "    </tr>\n",
       "    <tr>\n",
       "      <th>1</th>\n",
       "      <td>RIFLE</td>\n",
       "      <td>25418</td>\n",
       "      <td>119</td>\n",
       "    </tr>\n",
       "    <tr>\n",
       "      <th>2</th>\n",
       "      <td>SHOTGUN</td>\n",
       "      <td>20546</td>\n",
       "      <td>94</td>\n",
       "    </tr>\n",
       "    <tr>\n",
       "      <th>15</th>\n",
       "      <td>REVOLVER</td>\n",
       "      <td>3</td>\n",
       "      <td>72</td>\n",
       "    </tr>\n",
       "    <tr>\n",
       "      <th>3</th>\n",
       "      <td>ALL OTHERS</td>\n",
       "      <td>3390</td>\n",
       "      <td>34</td>\n",
       "    </tr>\n",
       "    <tr>\n",
       "      <th>4</th>\n",
       "      <td>RIFLE SHOTGUN COMBINATION</td>\n",
       "      <td>1630</td>\n",
       "      <td>17</td>\n",
       "    </tr>\n",
       "    <tr>\n",
       "      <th>5</th>\n",
       "      <td>AMMUNITION</td>\n",
       "      <td>892</td>\n",
       "      <td>15</td>\n",
       "    </tr>\n",
       "    <tr>\n",
       "      <th>13</th>\n",
       "      <td>BOMB</td>\n",
       "      <td>4</td>\n",
       "      <td>2</td>\n",
       "    </tr>\n",
       "    <tr>\n",
       "      <th>8</th>\n",
       "      <td>SHOTGUN PISTOL</td>\n",
       "      <td>78</td>\n",
       "      <td>2</td>\n",
       "    </tr>\n",
       "    <tr>\n",
       "      <th>11</th>\n",
       "      <td>ELECTRIC SHOCK GUN</td>\n",
       "      <td>6</td>\n",
       "      <td>1</td>\n",
       "    </tr>\n",
       "    <tr>\n",
       "      <th>10</th>\n",
       "      <td>CANNON</td>\n",
       "      <td>11</td>\n",
       "      <td>1</td>\n",
       "    </tr>\n",
       "    <tr>\n",
       "      <th>9</th>\n",
       "      <td>DISGUISED GUN</td>\n",
       "      <td>17</td>\n",
       "      <td>1</td>\n",
       "    </tr>\n",
       "    <tr>\n",
       "      <th>7</th>\n",
       "      <td>MACHINE GUN</td>\n",
       "      <td>107</td>\n",
       "      <td>1</td>\n",
       "    </tr>\n",
       "    <tr>\n",
       "      <th>6</th>\n",
       "      <td>SUBMACHINE GUN OR MACHINE PISTOL</td>\n",
       "      <td>113</td>\n",
       "      <td>1</td>\n",
       "    </tr>\n",
       "    <tr>\n",
       "      <th>14</th>\n",
       "      <td>SILENCER</td>\n",
       "      <td>4</td>\n",
       "      <td>0</td>\n",
       "    </tr>\n",
       "    <tr>\n",
       "      <th>16</th>\n",
       "      <td>RIFLE/SHOTGUN/OTHER</td>\n",
       "      <td>3</td>\n",
       "      <td>0</td>\n",
       "    </tr>\n",
       "    <tr>\n",
       "      <th>17</th>\n",
       "      <td>GRENADE</td>\n",
       "      <td>3</td>\n",
       "      <td>0</td>\n",
       "    </tr>\n",
       "    <tr>\n",
       "      <th>18</th>\n",
       "      <td>MORTAR</td>\n",
       "      <td>1</td>\n",
       "      <td>0</td>\n",
       "    </tr>\n",
       "    <tr>\n",
       "      <th>19</th>\n",
       "      <td>ROCKET</td>\n",
       "      <td>1</td>\n",
       "      <td>0</td>\n",
       "    </tr>\n",
       "  </tbody>\n",
       "</table>\n",
       "</div>"
      ],
      "text/plain": [
       "                            gun type   count  guns per 100,000 people\n",
       "0                             PISTOL  116196                      512\n",
       "12                          LONG GUN       5                      119\n",
       "1                              RIFLE   25418                      119\n",
       "2                            SHOTGUN   20546                       94\n",
       "15                          REVOLVER       3                       72\n",
       "3                         ALL OTHERS    3390                       34\n",
       "4          RIFLE SHOTGUN COMBINATION    1630                       17\n",
       "5                         AMMUNITION     892                       15\n",
       "13                              BOMB       4                        2\n",
       "8                     SHOTGUN PISTOL      78                        2\n",
       "11                ELECTRIC SHOCK GUN       6                        1\n",
       "10                            CANNON      11                        1\n",
       "9                      DISGUISED GUN      17                        1\n",
       "7                        MACHINE GUN     107                        1\n",
       "6   SUBMACHINE GUN OR MACHINE PISTOL     113                        1\n",
       "14                          SILENCER       4                        0\n",
       "16               RIFLE/SHOTGUN/OTHER       3                        0\n",
       "17                           GRENADE       3                        0\n",
       "18                            MORTAR       1                        0\n",
       "19                            ROCKET       1                        0"
      ]
     },
     "execution_count": 24,
     "metadata": {},
     "output_type": "execute_result"
    }
   ],
   "source": [
    "gun_df = df['gun type'].value_counts().reset_index()\n",
    "gun_df = gun_df.rename({'index': 'gun type', 'gun type': 'count'}, axis=1)\n",
    "state_location_gun = df.groupby(['state', 'location', 'gun type']).size().reset_index().rename({0: 'count'}, axis=1)\n",
    "gun_list = gun_df['gun type']\n",
    "gun_df['guns per 100,000 people'] = get_guns_per1(state_location_gun, gun_df)\n",
    "gun_df = gun_df.astype({'guns per 100,000 people': 'int32'})\n",
    "gun_df = gun_df.sort_values('guns per 100,000 people', ascending=False)\n",
    "gun_df"
   ]
  },
  {
   "cell_type": "code",
   "execution_count": 25,
   "metadata": {
    "scrolled": true
   },
   "outputs": [
    {
     "data": {
      "image/png": "[encoded data removed]",
      "text/plain": [
       "<Figure size 1080x360 with 1 Axes>"
      ]
     },
     "metadata": {
      "needs_background": "light"
     },
     "output_type": "display_data"
    }
   ],
   "source": [
    "fig = plt.figure(figsize=(15,5))\n",
    "plt.bar(gun_df.head()['gun type'], gun_df.head()['guns per 100,000 people'], edgecolor='black')\n",
    "plt.xlabel('Gun Type', fontsize=12)\n",
    "plt.ylabel('Guns Per 100,000 People', fontsize=12)\n",
    "fig_num = fig_num + 1\n",
    "fig.suptitle('Figure {}: Highest Reported Gun Types Per 100,000 People'.format(fig_num), fontsize=15, y=0.925)\n",
    "plt.show()"
   ]
  },
  {
   "cell_type": "markdown",
   "metadata": {},
   "source": [
    "Pistols in total had the highest rate of being reported at 512 pistols per 100,000 people. The next highest guns were long guns, rifles, shotguns, and revolvers were reported at a much lower rate compared to pistols. Long guns started at a rate of 119 guns per 100,000 people.  "
   ]
  },
  {
   "cell_type": "markdown",
   "metadata": {},
   "source": [
    "## Offense"
   ]
  },
  {
   "cell_type": "code",
   "execution_count": 26,
   "metadata": {
    "scrolled": true
   },
   "outputs": [
    {
     "data": {
      "text/html": [
       "<div>\n",
       "<style scoped>\n",
       "    .dataframe tbody tr th:only-of-type {\n",
       "        vertical-align: middle;\n",
       "    }\n",
       "\n",
       "    .dataframe tbody tr th {\n",
       "        vertical-align: top;\n",
       "    }\n",
       "\n",
       "    .dataframe thead th {\n",
       "        text-align: right;\n",
       "    }\n",
       "</style>\n",
       "<table border=\"1\" class=\"dataframe\">\n",
       "  <thead>\n",
       "    <tr style=\"text-align: right;\">\n",
       "      <th></th>\n",
       "      <th>offense</th>\n",
       "      <th>count</th>\n",
       "      <th>guns per 100,000 people</th>\n",
       "    </tr>\n",
       "  </thead>\n",
       "  <tbody>\n",
       "    <tr>\n",
       "      <th>0</th>\n",
       "      <td>HANDGUN VIOLATION</td>\n",
       "      <td>12427</td>\n",
       "      <td>2001</td>\n",
       "    </tr>\n",
       "    <tr>\n",
       "      <th>21</th>\n",
       "      <td>CRIMINAL POSSESSION OF A WEAPON</td>\n",
       "      <td>1351</td>\n",
       "      <td>642</td>\n",
       "    </tr>\n",
       "    <tr>\n",
       "      <th>28</th>\n",
       "      <td>DESTROY</td>\n",
       "      <td>1003</td>\n",
       "      <td>476</td>\n",
       "    </tr>\n",
       "    <tr>\n",
       "      <th>20</th>\n",
       "      <td>BURGLARY SECOND DEGREE</td>\n",
       "      <td>1387</td>\n",
       "      <td>434</td>\n",
       "    </tr>\n",
       "    <tr>\n",
       "      <th>10</th>\n",
       "      <td>MISCELLANEOUS SAFEKEEPING</td>\n",
       "      <td>2665</td>\n",
       "      <td>429</td>\n",
       "    </tr>\n",
       "    <tr>\n",
       "      <th>11</th>\n",
       "      <td>CONTROLLED DANGEROUS SUBSTANCE</td>\n",
       "      <td>2538</td>\n",
       "      <td>409</td>\n",
       "    </tr>\n",
       "    <tr>\n",
       "      <th>23</th>\n",
       "      <td>STOLEN PROPERTY OFFENSES</td>\n",
       "      <td>1255</td>\n",
       "      <td>393</td>\n",
       "    </tr>\n",
       "    <tr>\n",
       "      <th>26</th>\n",
       "      <td>FELONY UNLAWFUL USE OF WEAPON</td>\n",
       "      <td>1055</td>\n",
       "      <td>330</td>\n",
       "    </tr>\n",
       "    <tr>\n",
       "      <th>46</th>\n",
       "      <td>EVIDENCE INVESTIGATION</td>\n",
       "      <td>691</td>\n",
       "      <td>328</td>\n",
       "    </tr>\n",
       "    <tr>\n",
       "      <th>2</th>\n",
       "      <td>RECOVERED FOUND PROPERTY</td>\n",
       "      <td>5904</td>\n",
       "      <td>306</td>\n",
       "    </tr>\n",
       "    <tr>\n",
       "      <th>6</th>\n",
       "      <td>SAFEKEEPING</td>\n",
       "      <td>2922</td>\n",
       "      <td>283</td>\n",
       "    </tr>\n",
       "    <tr>\n",
       "      <th>93</th>\n",
       "      <td>FELONY</td>\n",
       "      <td>297</td>\n",
       "      <td>282</td>\n",
       "    </tr>\n",
       "    <tr>\n",
       "      <th>5</th>\n",
       "      <td>BURGLARY OF VEHICLE</td>\n",
       "      <td>2989</td>\n",
       "      <td>259</td>\n",
       "    </tr>\n",
       "    <tr>\n",
       "      <th>58</th>\n",
       "      <td>VIOLATION OF UNIFORM CONTROLLED SUBSTANCES ACT</td>\n",
       "      <td>565</td>\n",
       "      <td>251</td>\n",
       "    </tr>\n",
       "    <tr>\n",
       "      <th>94</th>\n",
       "      <td>BURGLARY TO CONVEYANCE</td>\n",
       "      <td>282</td>\n",
       "      <td>227</td>\n",
       "    </tr>\n",
       "    <tr>\n",
       "      <th>118</th>\n",
       "      <td>SUICIDE OR ATTEMPT</td>\n",
       "      <td>231</td>\n",
       "      <td>224</td>\n",
       "    </tr>\n",
       "    <tr>\n",
       "      <th>117</th>\n",
       "      <td>BURGLARY FORCIBLE ENTRY</td>\n",
       "      <td>233</td>\n",
       "      <td>223</td>\n",
       "    </tr>\n",
       "    <tr>\n",
       "      <th>22</th>\n",
       "      <td>POSSESSION OF WEAPON BY PREVIOUS OFFENDER</td>\n",
       "      <td>1319</td>\n",
       "      <td>220</td>\n",
       "    </tr>\n",
       "    <tr>\n",
       "      <th>96</th>\n",
       "      <td>THEFT FROM MV</td>\n",
       "      <td>275</td>\n",
       "      <td>216</td>\n",
       "    </tr>\n",
       "    <tr>\n",
       "      <th>48</th>\n",
       "      <td>THEFT OF PROPERTY SERVICES 500 25000 F MOTOR V...</td>\n",
       "      <td>687</td>\n",
       "      <td>215</td>\n",
       "    </tr>\n",
       "    <tr>\n",
       "      <th>49</th>\n",
       "      <td>NONCRIMINAL INCDNT FOUND PROPERTY</td>\n",
       "      <td>675</td>\n",
       "      <td>211</td>\n",
       "    </tr>\n",
       "    <tr>\n",
       "      <th>47</th>\n",
       "      <td>RTHEFT</td>\n",
       "      <td>690</td>\n",
       "      <td>189</td>\n",
       "    </tr>\n",
       "    <tr>\n",
       "      <th>143</th>\n",
       "      <td>AOA LE</td>\n",
       "      <td>190</td>\n",
       "      <td>184</td>\n",
       "    </tr>\n",
       "    <tr>\n",
       "      <th>25</th>\n",
       "      <td>RESIDENTIAL BURGLARY BY FORCE</td>\n",
       "      <td>1058</td>\n",
       "      <td>176</td>\n",
       "    </tr>\n",
       "    <tr>\n",
       "      <th>152</th>\n",
       "      <td>PUBLIC ASSIST</td>\n",
       "      <td>169</td>\n",
       "      <td>164</td>\n",
       "    </tr>\n",
       "    <tr>\n",
       "      <th>61</th>\n",
       "      <td>BURGLARY FORCED ENTRY RES</td>\n",
       "      <td>518</td>\n",
       "      <td>159</td>\n",
       "    </tr>\n",
       "    <tr>\n",
       "      <th>157</th>\n",
       "      <td>POSSESSING STOLEN PROPERTY</td>\n",
       "      <td>162</td>\n",
       "      <td>157</td>\n",
       "    </tr>\n",
       "    <tr>\n",
       "      <th>1</th>\n",
       "      <td>RESIDENTIAL BURGLARY</td>\n",
       "      <td>8403</td>\n",
       "      <td>152</td>\n",
       "    </tr>\n",
       "    <tr>\n",
       "      <th>30</th>\n",
       "      <td>SHOOTING</td>\n",
       "      <td>936</td>\n",
       "      <td>151</td>\n",
       "    </tr>\n",
       "    <tr>\n",
       "      <th>65</th>\n",
       "      <td>ROBBERY 1ST DEGREE</td>\n",
       "      <td>482</td>\n",
       "      <td>151</td>\n",
       "    </tr>\n",
       "    <tr>\n",
       "      <th>...</th>\n",
       "      <td>...</td>\n",
       "      <td>...</td>\n",
       "      <td>...</td>\n",
       "    </tr>\n",
       "    <tr>\n",
       "      <th>2970</th>\n",
       "      <td>626 10 B PC POSS WEAPON ON COLLEGE CAMPUS NOT ...</td>\n",
       "      <td>1</td>\n",
       "      <td>0</td>\n",
       "    </tr>\n",
       "    <tr>\n",
       "      <th>2971</th>\n",
       "      <td>AGO ROBS</td>\n",
       "      <td>1</td>\n",
       "      <td>0</td>\n",
       "    </tr>\n",
       "    <tr>\n",
       "      <th>2972</th>\n",
       "      <td>POSSISSION OF MARIJUANA UPF</td>\n",
       "      <td>1</td>\n",
       "      <td>0</td>\n",
       "    </tr>\n",
       "    <tr>\n",
       "      <th>2973</th>\n",
       "      <td>SEIZED PROPERTY FP</td>\n",
       "      <td>1</td>\n",
       "      <td>0</td>\n",
       "    </tr>\n",
       "    <tr>\n",
       "      <th>2951</th>\n",
       "      <td>NARC FOUND OTHER</td>\n",
       "      <td>1</td>\n",
       "      <td>0</td>\n",
       "    </tr>\n",
       "    <tr>\n",
       "      <th>2948</th>\n",
       "      <td>THEFT OF PROPERTY F 5</td>\n",
       "      <td>1</td>\n",
       "      <td>0</td>\n",
       "    </tr>\n",
       "    <tr>\n",
       "      <th>2923</th>\n",
       "      <td>MAN DEL UPF ASSLT P 0</td>\n",
       "      <td>1</td>\n",
       "      <td>0</td>\n",
       "    </tr>\n",
       "    <tr>\n",
       "      <th>2947</th>\n",
       "      <td>FORGERY CHECK</td>\n",
       "      <td>1</td>\n",
       "      <td>0</td>\n",
       "    </tr>\n",
       "    <tr>\n",
       "      <th>2924</th>\n",
       "      <td>AGO ASSAUALT</td>\n",
       "      <td>1</td>\n",
       "      <td>0</td>\n",
       "    </tr>\n",
       "    <tr>\n",
       "      <th>2925</th>\n",
       "      <td>VEHICLE RECOVERED</td>\n",
       "      <td>1</td>\n",
       "      <td>0</td>\n",
       "    </tr>\n",
       "    <tr>\n",
       "      <th>2927</th>\n",
       "      <td>CRUELTITO ANIMALS</td>\n",
       "      <td>1</td>\n",
       "      <td>0</td>\n",
       "    </tr>\n",
       "    <tr>\n",
       "      <th>2928</th>\n",
       "      <td>AGG ASSUALT F V</td>\n",
       "      <td>1</td>\n",
       "      <td>0</td>\n",
       "    </tr>\n",
       "    <tr>\n",
       "      <th>2929</th>\n",
       "      <td>11NL FIREARM BY FELON</td>\n",
       "      <td>1</td>\n",
       "      <td>0</td>\n",
       "    </tr>\n",
       "    <tr>\n",
       "      <th>2930</th>\n",
       "      <td>VMCSL POSSES OF CONTROL SUBS PERSISTENT OFFENDER</td>\n",
       "      <td>1</td>\n",
       "      <td>0</td>\n",
       "    </tr>\n",
       "    <tr>\n",
       "      <th>2931</th>\n",
       "      <td>01 RECOVD STOLEN</td>\n",
       "      <td>1</td>\n",
       "      <td>0</td>\n",
       "    </tr>\n",
       "    <tr>\n",
       "      <th>2932</th>\n",
       "      <td>AGO ASSULT OW FN</td>\n",
       "      <td>1</td>\n",
       "      <td>0</td>\n",
       "    </tr>\n",
       "    <tr>\n",
       "      <th>2933</th>\n",
       "      <td>AR OW</td>\n",
       "      <td>1</td>\n",
       "      <td>0</td>\n",
       "    </tr>\n",
       "    <tr>\n",
       "      <th>2934</th>\n",
       "      <td>TRAFFIC PROTECTIVE CUSTODY</td>\n",
       "      <td>1</td>\n",
       "      <td>0</td>\n",
       "    </tr>\n",
       "    <tr>\n",
       "      <th>2935</th>\n",
       "      <td>SAFEKEEPING SELLING GUN</td>\n",
       "      <td>1</td>\n",
       "      <td>0</td>\n",
       "    </tr>\n",
       "    <tr>\n",
       "      <th>2936</th>\n",
       "      <td>DWI OPERATED MOTOR VEH WHILE IN INTOX COND MIS...</td>\n",
       "      <td>1</td>\n",
       "      <td>0</td>\n",
       "    </tr>\n",
       "    <tr>\n",
       "      <th>2937</th>\n",
       "      <td>THEFT OF BICYCLE</td>\n",
       "      <td>1</td>\n",
       "      <td>0</td>\n",
       "    </tr>\n",
       "    <tr>\n",
       "      <th>2938</th>\n",
       "      <td>UCW TAVERN F 3</td>\n",
       "      <td>1</td>\n",
       "      <td>0</td>\n",
       "    </tr>\n",
       "    <tr>\n",
       "      <th>2939</th>\n",
       "      <td>THEFT UNAUTH USE OF FTD</td>\n",
       "      <td>1</td>\n",
       "      <td>0</td>\n",
       "    </tr>\n",
       "    <tr>\n",
       "      <th>2940</th>\n",
       "      <td>SUSPECT STOLEN FIREARM</td>\n",
       "      <td>1</td>\n",
       "      <td>0</td>\n",
       "    </tr>\n",
       "    <tr>\n",
       "      <th>2941</th>\n",
       "      <td>ASSAULTM C THREATS</td>\n",
       "      <td>1</td>\n",
       "      <td>0</td>\n",
       "    </tr>\n",
       "    <tr>\n",
       "      <th>2942</th>\n",
       "      <td>266 I A 1 PC PANDERING PROCURE PERSON FOR PROS...</td>\n",
       "      <td>1</td>\n",
       "      <td>0</td>\n",
       "    </tr>\n",
       "    <tr>\n",
       "      <th>2943</th>\n",
       "      <td>BMW</td>\n",
       "      <td>1</td>\n",
       "      <td>0</td>\n",
       "    </tr>\n",
       "    <tr>\n",
       "      <th>2944</th>\n",
       "      <td>BURG OF RES FAM DATING ASLT</td>\n",
       "      <td>1</td>\n",
       "      <td>0</td>\n",
       "    </tr>\n",
       "    <tr>\n",
       "      <th>1056</th>\n",
       "      <td>CHILD ENDANGERMENT</td>\n",
       "      <td>8</td>\n",
       "      <td>0</td>\n",
       "    </tr>\n",
       "    <tr>\n",
       "      <th>5152</th>\n",
       "      <td>WEAPONS PROHIBITED</td>\n",
       "      <td>1</td>\n",
       "      <td>0</td>\n",
       "    </tr>\n",
       "  </tbody>\n",
       "</table>\n",
       "<p>5153 rows × 3 columns</p>\n",
       "</div>"
      ],
      "text/plain": [
       "                                                offense  count  \\\n",
       "0                                     HANDGUN VIOLATION  12427   \n",
       "21                      CRIMINAL POSSESSION OF A WEAPON   1351   \n",
       "28                                              DESTROY   1003   \n",
       "20                               BURGLARY SECOND DEGREE   1387   \n",
       "10                            MISCELLANEOUS SAFEKEEPING   2665   \n",
       "11                       CONTROLLED DANGEROUS SUBSTANCE   2538   \n",
       "23                             STOLEN PROPERTY OFFENSES   1255   \n",
       "26                        FELONY UNLAWFUL USE OF WEAPON   1055   \n",
       "46                               EVIDENCE INVESTIGATION    691   \n",
       "2                              RECOVERED FOUND PROPERTY   5904   \n",
       "6                                           SAFEKEEPING   2922   \n",
       "93                                               FELONY    297   \n",
       "5                                   BURGLARY OF VEHICLE   2989   \n",
       "58       VIOLATION OF UNIFORM CONTROLLED SUBSTANCES ACT    565   \n",
       "94                               BURGLARY TO CONVEYANCE    282   \n",
       "118                                  SUICIDE OR ATTEMPT    231   \n",
       "117                             BURGLARY FORCIBLE ENTRY    233   \n",
       "22            POSSESSION OF WEAPON BY PREVIOUS OFFENDER   1319   \n",
       "96                                        THEFT FROM MV    275   \n",
       "48    THEFT OF PROPERTY SERVICES 500 25000 F MOTOR V...    687   \n",
       "49                    NONCRIMINAL INCDNT FOUND PROPERTY    675   \n",
       "47                                               RTHEFT    690   \n",
       "143                                              AOA LE    190   \n",
       "25                        RESIDENTIAL BURGLARY BY FORCE   1058   \n",
       "152                                       PUBLIC ASSIST    169   \n",
       "61                            BURGLARY FORCED ENTRY RES    518   \n",
       "157                          POSSESSING STOLEN PROPERTY    162   \n",
       "1                                  RESIDENTIAL BURGLARY   8403   \n",
       "30                                             SHOOTING    936   \n",
       "65                                   ROBBERY 1ST DEGREE    482   \n",
       "...                                                 ...    ...   \n",
       "2970  626 10 B PC POSS WEAPON ON COLLEGE CAMPUS NOT ...      1   \n",
       "2971                                           AGO ROBS      1   \n",
       "2972                        POSSISSION OF MARIJUANA UPF      1   \n",
       "2973                                 SEIZED PROPERTY FP      1   \n",
       "2951                                   NARC FOUND OTHER      1   \n",
       "2948                              THEFT OF PROPERTY F 5      1   \n",
       "2923                              MAN DEL UPF ASSLT P 0      1   \n",
       "2947                                      FORGERY CHECK      1   \n",
       "2924                                       AGO ASSAUALT      1   \n",
       "2925                                  VEHICLE RECOVERED      1   \n",
       "2927                                  CRUELTITO ANIMALS      1   \n",
       "2928                                    AGG ASSUALT F V      1   \n",
       "2929                              11NL FIREARM BY FELON      1   \n",
       "2930   VMCSL POSSES OF CONTROL SUBS PERSISTENT OFFENDER      1   \n",
       "2931                                   01 RECOVD STOLEN      1   \n",
       "2932                                   AGO ASSULT OW FN      1   \n",
       "2933                                              AR OW      1   \n",
       "2934                         TRAFFIC PROTECTIVE CUSTODY      1   \n",
       "2935                            SAFEKEEPING SELLING GUN      1   \n",
       "2936  DWI OPERATED MOTOR VEH WHILE IN INTOX COND MIS...      1   \n",
       "2937                                   THEFT OF BICYCLE      1   \n",
       "2938                                     UCW TAVERN F 3      1   \n",
       "2939                            THEFT UNAUTH USE OF FTD      1   \n",
       "2940                             SUSPECT STOLEN FIREARM      1   \n",
       "2941                                 ASSAULTM C THREATS      1   \n",
       "2942  266 I A 1 PC PANDERING PROCURE PERSON FOR PROS...      1   \n",
       "2943                                                BMW      1   \n",
       "2944                        BURG OF RES FAM DATING ASLT      1   \n",
       "1056                                 CHILD ENDANGERMENT      8   \n",
       "5152                                 WEAPONS PROHIBITED      1   \n",
       "\n",
       "      guns per 100,000 people  \n",
       "0                        2001  \n",
       "21                        642  \n",
       "28                        476  \n",
       "20                        434  \n",
       "10                        429  \n",
       "11                        409  \n",
       "23                        393  \n",
       "26                        330  \n",
       "46                        328  \n",
       "2                         306  \n",
       "6                         283  \n",
       "93                        282  \n",
       "5                         259  \n",
       "58                        251  \n",
       "94                        227  \n",
       "118                       224  \n",
       "117                       223  \n",
       "22                        220  \n",
       "96                        216  \n",
       "48                        215  \n",
       "49                        211  \n",
       "47                        189  \n",
       "143                       184  \n",
       "25                        176  \n",
       "152                       164  \n",
       "61                        159  \n",
       "157                       157  \n",
       "1                         152  \n",
       "30                        151  \n",
       "65                        151  \n",
       "...                       ...  \n",
       "2970                        0  \n",
       "2971                        0  \n",
       "2972                        0  \n",
       "2973                        0  \n",
       "2951                        0  \n",
       "2948                        0  \n",
       "2923                        0  \n",
       "2947                        0  \n",
       "2924                        0  \n",
       "2925                        0  \n",
       "2927                        0  \n",
       "2928                        0  \n",
       "2929                        0  \n",
       "2930                        0  \n",
       "2931                        0  \n",
       "2932                        0  \n",
       "2933                        0  \n",
       "2934                        0  \n",
       "2935                        0  \n",
       "2936                        0  \n",
       "2937                        0  \n",
       "2938                        0  \n",
       "2939                        0  \n",
       "2940                        0  \n",
       "2941                        0  \n",
       "2942                        0  \n",
       "2943                        0  \n",
       "2944                        0  \n",
       "1056                        0  \n",
       "5152                        0  \n",
       "\n",
       "[5153 rows x 3 columns]"
      ]
     },
     "execution_count": 26,
     "metadata": {},
     "output_type": "execute_result"
    }
   ],
   "source": [
    "result_list = []\n",
    "offense_df = df['offense'].value_counts().reset_index()\n",
    "offense_df = offense_df.rename({'index': 'offense', 'offense': 'count'}, axis=1)\n",
    "state_location_offense = df.groupby(['state', 'location', 'offense']).size().reset_index().rename({0: 'count'}, axis=1)\n",
    "offense_list = offense_df['offense'] \n",
    "offense_df['guns per 100,000 people'] = get_guns_per1(state_location_offense, offense_df)\n",
    "offense_df = offense_df.astype({'guns per 100,000 people': 'int32'})\n",
    "offense_df = offense_df.sort_values('guns per 100,000 people', ascending=False)\n",
    "offense_df"
   ]
  },
  {
   "cell_type": "code",
   "execution_count": 27,
   "metadata": {},
   "outputs": [
    {
     "data": {
      "image/png": "[encoded data removed]",
      "text/plain": [
       "<Figure size 1530x360 with 1 Axes>"
      ]
     },
     "metadata": {
      "needs_background": "light"
     },
     "output_type": "display_data"
    }
   ],
   "source": [
    "fig = plt.figure(figsize=(21.25, 5))\n",
    "plt.bar(offense_df.head(6)['offense'], offense_df.head(6)['guns per 100,000 people'], edgecolor='black')\n",
    "plt.xlabel('Offense', fontsize=12)\n",
    "plt.ylabel('Guns Per 100,000 People', fontsize=12)\n",
    "fig_num = fig_num + 1\n",
    "fig.suptitle('Figure {}. Common Offenses Associated to Guns'.format(fig_num), fontsize=15, y=0.925)\n",
    "plt.show()"
   ]
  },
  {
   "cell_type": "markdown",
   "metadata": {},
   "source": [
    "Handgun violations had the highest rate of being associated to a weapon offense at a rate of 2001 guns per 100,000 people. The procceding offenses drastically reduce in rate with the next highest offense being criminal possession of a weapon at 642 guns per 100,000 people. As seen in the previous figure, pistols had the highest rate of being reported, so it is no surprise that handgun violations had the highest rate of offenses reported. "
   ]
  },
  {
   "cell_type": "markdown",
   "metadata": {},
   "source": [
    "## Pair-Wise Explorations"
   ]
  },
  {
   "cell_type": "code",
   "execution_count": 28,
   "metadata": {},
   "outputs": [],
   "source": [
    "#def get_guns_per2(three_group_df, two_group_df)\n",
    "def get_guns_per2(three_group_df, two_group_df):\n",
    "    result_list = []\n",
    "    key1, key2 = three_group_df.columns[0], three_group_df.columns[1]\n",
    "    for i in range(len(two_group_df)):\n",
    "        locations = three_group_df[(three_group_df[key1] == two_group_df.iloc[i, 0]) & (three_group_df[key2] == two_group_df.iloc[i, 1])]['location']\n",
    "        loc_pop_sum = 0\n",
    "        for location in locations:\n",
    "            loc_pop = state_location[state_location['location'] == location]['population'].to_list()[0]\n",
    "            loc_pop_sum = loc_pop_sum + loc_pop\n",
    "        count_sum = two_group_df.iloc[i,2]\n",
    "        result = ((count_sum / loc_pop_sum) * 100000).round()\n",
    "        result_list.append(result)\n",
    "    return result_list"
   ]
  },
  {
   "cell_type": "code",
   "execution_count": 29,
   "metadata": {},
   "outputs": [],
   "source": [
    "def show_grouped_bar(df, title, size=(10,10)):\n",
    "    fig = plt.figure(figsize=size)\n",
    "    labels = df.columns.to_list()[1:]\n",
    "    bar_width = 1/(len(labels) + 1)\n",
    "\n",
    "    # creates matrix of bar heights. Takes a column from the dataframe and turns it into a row in the matrix\n",
    "    bar_heights = []\n",
    "    for val in labels:\n",
    "        bar_heights.append(df[val].to_list())\n",
    "    \n",
    "    # creates matrix of x-positions for the bars\n",
    "    bar_pos = []\n",
    "    bar_pos.append(np.arange(len(bar_heights[0])))\n",
    "    for i in range(1, len(bar_heights)):\n",
    "        bar_pos.append([x + bar_width for x in bar_pos[i - 1]])\n",
    "    \n",
    "    # plots the bars\n",
    "    for i in range(len(bar_heights)):\n",
    "        plt.bar(bar_pos[i], bar_heights[i], width=bar_width, edgecolor='black', label=labels[i])\n",
    "\n",
    "    # If there are an odd number of groups, then the positions of the middle bars are chosen\n",
    "    # else, the positions between the two middle bars are found\n",
    "    if len(bar_pos) % 2:\n",
    "        mid = bar_pos[int(len(bar_pos)/2)]\n",
    "    else:\n",
    "        mid_left = np.asarray(bar_pos[int(len(bar_pos)/2) - 1])\n",
    "        mid_right = np.asarray(bar_pos[int(len(bar_pos)/2)])\n",
    "        mid = (mid_left + mid_right) / 2\n",
    "        \n",
    "    x_ticks = df.iloc[:,0].to_list()\n",
    "    plt.xticks(mid, x_ticks)\n",
    "    plt.xlabel(df.columns.to_list()[0].capitalize(), fontsize=12)\n",
    "    plt.ylabel('Guns Per 100,000 People', fontsize=12)\n",
    "    global fig_num\n",
    "    fig_num = fig_num + 1\n",
    "    title = 'Figure {}. '.format(fig_num) + title\n",
    "    fig.suptitle(title, fontsize=15, y=0.925)\n",
    "    plt.legend()\n",
    "    plt.show()"
   ]
  },
  {
   "cell_type": "markdown",
   "metadata": {},
   "source": [
    "## Year and Status"
   ]
  },
  {
   "cell_type": "code",
   "execution_count": 30,
   "metadata": {
    "scrolled": true
   },
   "outputs": [],
   "source": [
    "year_status = pd.DataFrame()\n",
    "year_status['count'] = df.groupby('year')['status'].value_counts()\n",
    "year_status = year_status.reset_index()\n",
    "year_status_location = df.groupby(['year', 'status', 'location']).size().reset_index().rename({0: 'count'}, axis=1)\n",
    "year_status['guns per 100,000 people'] = get_guns_per2(year_status_location, year_status)\n",
    "year_status = year_status.astype({'guns per 100,000 people': 'int32'})"
   ]
  },
  {
   "cell_type": "code",
   "execution_count": 31,
   "metadata": {},
   "outputs": [
    {
     "data": {
      "text/html": [
       "<div>\n",
       "<style scoped>\n",
       "    .dataframe tbody tr th:only-of-type {\n",
       "        vertical-align: middle;\n",
       "    }\n",
       "\n",
       "    .dataframe tbody tr th {\n",
       "        vertical-align: top;\n",
       "    }\n",
       "\n",
       "    .dataframe thead th {\n",
       "        text-align: right;\n",
       "    }\n",
       "</style>\n",
       "<table border=\"1\" class=\"dataframe\">\n",
       "  <thead>\n",
       "    <tr style=\"text-align: right;\">\n",
       "      <th></th>\n",
       "      <th>year</th>\n",
       "      <th>RECOVERED</th>\n",
       "      <th>LOST/STOLEN</th>\n",
       "      <th>STOLEN</th>\n",
       "      <th>RECOVERED (STOLEN)</th>\n",
       "      <th>STOLEN (RECOVERED)</th>\n",
       "      <th>LOST</th>\n",
       "    </tr>\n",
       "  </thead>\n",
       "  <tbody>\n",
       "    <tr>\n",
       "      <th>0</th>\n",
       "      <td>2010</td>\n",
       "      <td>112</td>\n",
       "      <td>79</td>\n",
       "      <td>39</td>\n",
       "      <td>11</td>\n",
       "      <td>5</td>\n",
       "      <td>3</td>\n",
       "    </tr>\n",
       "    <tr>\n",
       "      <th>1</th>\n",
       "      <td>2011</td>\n",
       "      <td>109</td>\n",
       "      <td>78</td>\n",
       "      <td>39</td>\n",
       "      <td>9</td>\n",
       "      <td>5</td>\n",
       "      <td>1</td>\n",
       "    </tr>\n",
       "    <tr>\n",
       "      <th>2</th>\n",
       "      <td>2012</td>\n",
       "      <td>114</td>\n",
       "      <td>73</td>\n",
       "      <td>38</td>\n",
       "      <td>9</td>\n",
       "      <td>7</td>\n",
       "      <td>2</td>\n",
       "    </tr>\n",
       "    <tr>\n",
       "      <th>3</th>\n",
       "      <td>2013</td>\n",
       "      <td>120</td>\n",
       "      <td>89</td>\n",
       "      <td>35</td>\n",
       "      <td>9</td>\n",
       "      <td>11</td>\n",
       "      <td>3</td>\n",
       "    </tr>\n",
       "    <tr>\n",
       "      <th>4</th>\n",
       "      <td>2014</td>\n",
       "      <td>99</td>\n",
       "      <td>92</td>\n",
       "      <td>38</td>\n",
       "      <td>11</td>\n",
       "      <td>6</td>\n",
       "      <td>2</td>\n",
       "    </tr>\n",
       "    <tr>\n",
       "      <th>5</th>\n",
       "      <td>2015</td>\n",
       "      <td>107</td>\n",
       "      <td>100</td>\n",
       "      <td>40</td>\n",
       "      <td>13</td>\n",
       "      <td>9</td>\n",
       "      <td>2</td>\n",
       "    </tr>\n",
       "    <tr>\n",
       "      <th>6</th>\n",
       "      <td>2016</td>\n",
       "      <td>100</td>\n",
       "      <td>72</td>\n",
       "      <td>44</td>\n",
       "      <td>19</td>\n",
       "      <td>8</td>\n",
       "      <td>1</td>\n",
       "    </tr>\n",
       "  </tbody>\n",
       "</table>\n",
       "</div>"
      ],
      "text/plain": [
       "   year  RECOVERED  LOST/STOLEN  STOLEN  RECOVERED (STOLEN)  \\\n",
       "0  2010        112           79      39                  11   \n",
       "1  2011        109           78      39                   9   \n",
       "2  2012        114           73      38                   9   \n",
       "3  2013        120           89      35                   9   \n",
       "4  2014         99           92      38                  11   \n",
       "5  2015        107          100      40                  13   \n",
       "6  2016        100           72      44                  19   \n",
       "\n",
       "   STOLEN (RECOVERED)  LOST  \n",
       "0                   5     3  \n",
       "1                   5     1  \n",
       "2                   7     2  \n",
       "3                  11     3  \n",
       "4                   6     2  \n",
       "5                   9     2  \n",
       "6                   8     1  "
      ]
     },
     "execution_count": 31,
     "metadata": {},
     "output_type": "execute_result"
    }
   ],
   "source": [
    "year_status_per = pd.DataFrame()\n",
    "year_status_per['year'] = year_status['year'].unique()\n",
    "status_list = ['RECOVERED','LOST/STOLEN','STOLEN','RECOVERED (STOLEN)','STOLEN (RECOVERED)','LOST']\n",
    "\n",
    "for status in status_list:\n",
    "    year_status_per[status] = year_status[year_status['status'] == status]['guns per 100,000 people'].to_list()\n",
    "\n",
    "year_status_per"
   ]
  },
  {
   "cell_type": "code",
   "execution_count": 32,
   "metadata": {},
   "outputs": [
    {
     "data": {
      "text/plain": [
       "108.71428571428571"
      ]
     },
     "execution_count": 32,
     "metadata": {},
     "output_type": "execute_result"
    }
   ],
   "source": [
    "year_status_per['RECOVERED'].mean()"
   ]
  },
  {
   "cell_type": "code",
   "execution_count": 33,
   "metadata": {},
   "outputs": [
    {
     "data": {
      "text/plain": [
       "2.0"
      ]
     },
     "execution_count": 33,
     "metadata": {},
     "output_type": "execute_result"
    }
   ],
   "source": [
    "year_status_per['LOST'].mean()"
   ]
  },
  {
   "cell_type": "code",
   "execution_count": 34,
   "metadata": {},
   "outputs": [
    {
     "data": {
      "image/png": "[encoded data removed]",
      "text/plain": [
       "<Figure size 1080x720 with 1 Axes>"
      ]
     },
     "metadata": {
      "needs_background": "light"
     },
     "output_type": "display_data"
    }
   ],
   "source": [
    "show_grouped_bar(year_status_per, 'Guns Per 100,000 From 2010-2016 Grouped By Status', (15,10))"
   ]
  },
  {
   "cell_type": "markdown",
   "metadata": {},
   "source": [
    "Each year, guns are reported the most as recovered with a mean of 108.71428571428571 recovered guns per 100,000 people. Guns were reported lost the least with 2 guns for every 100,000 people reported solely as lost. However, in the definitions, it states that some agencies do not specify if a gun is lost or stolen, so the number of lost guns may be drastically lower here. "
   ]
  },
  {
   "cell_type": "markdown",
   "metadata": {},
   "source": [
    "## Year and State"
   ]
  },
  {
   "cell_type": "code",
   "execution_count": 35,
   "metadata": {
    "scrolled": true
   },
   "outputs": [],
   "source": [
    "year_state = pd.DataFrame()\n",
    "year_state['count'] = df.groupby('year')['state'].value_counts()\n",
    "year_state = year_state.reset_index()\n",
    "year_state_location = df.groupby(['year', 'state', 'location']).size().reset_index().rename({0: 'count'}, axis=1)\n",
    "year_state['guns per 100,000 people'] = get_guns_per2(year_state_location, year_state)\n",
    "year_state = year_state.astype({'guns per 100,000 people': 'int32'})"
   ]
  },
  {
   "cell_type": "code",
   "execution_count": 36,
   "metadata": {},
   "outputs": [
    {
     "data": {
      "text/html": [
       "<div>\n",
       "<style scoped>\n",
       "    .dataframe tbody tr th:only-of-type {\n",
       "        vertical-align: middle;\n",
       "    }\n",
       "\n",
       "    .dataframe tbody tr th {\n",
       "        vertical-align: top;\n",
       "    }\n",
       "\n",
       "    .dataframe thead th {\n",
       "        text-align: right;\n",
       "    }\n",
       "</style>\n",
       "<table border=\"1\" class=\"dataframe\">\n",
       "  <thead>\n",
       "    <tr style=\"text-align: right;\">\n",
       "      <th></th>\n",
       "      <th>year</th>\n",
       "      <th>MD</th>\n",
       "      <th>MO</th>\n",
       "      <th>WA</th>\n",
       "      <th>CO</th>\n",
       "      <th>TX</th>\n",
       "      <th>CA</th>\n",
       "    </tr>\n",
       "  </thead>\n",
       "  <tbody>\n",
       "    <tr>\n",
       "      <th>0</th>\n",
       "      <td>2010</td>\n",
       "      <td>771</td>\n",
       "      <td>706</td>\n",
       "      <td>163</td>\n",
       "      <td>115</td>\n",
       "      <td>129</td>\n",
       "      <td>127</td>\n",
       "    </tr>\n",
       "    <tr>\n",
       "      <th>1</th>\n",
       "      <td>2011</td>\n",
       "      <td>710</td>\n",
       "      <td>681</td>\n",
       "      <td>169</td>\n",
       "      <td>106</td>\n",
       "      <td>130</td>\n",
       "      <td>123</td>\n",
       "    </tr>\n",
       "    <tr>\n",
       "      <th>2</th>\n",
       "      <td>2012</td>\n",
       "      <td>746</td>\n",
       "      <td>644</td>\n",
       "      <td>174</td>\n",
       "      <td>122</td>\n",
       "      <td>119</td>\n",
       "      <td>138</td>\n",
       "    </tr>\n",
       "    <tr>\n",
       "      <th>3</th>\n",
       "      <td>2013</td>\n",
       "      <td>715</td>\n",
       "      <td>653</td>\n",
       "      <td>232</td>\n",
       "      <td>130</td>\n",
       "      <td>118</td>\n",
       "      <td>140</td>\n",
       "    </tr>\n",
       "    <tr>\n",
       "      <th>4</th>\n",
       "      <td>2014</td>\n",
       "      <td>604</td>\n",
       "      <td>646</td>\n",
       "      <td>151</td>\n",
       "      <td>132</td>\n",
       "      <td>111</td>\n",
       "      <td>126</td>\n",
       "    </tr>\n",
       "    <tr>\n",
       "      <th>5</th>\n",
       "      <td>2015</td>\n",
       "      <td>612</td>\n",
       "      <td>829</td>\n",
       "      <td>177</td>\n",
       "      <td>172</td>\n",
       "      <td>132</td>\n",
       "      <td>123</td>\n",
       "    </tr>\n",
       "    <tr>\n",
       "      <th>6</th>\n",
       "      <td>2016</td>\n",
       "      <td>643</td>\n",
       "      <td>857</td>\n",
       "      <td>191</td>\n",
       "      <td>150</td>\n",
       "      <td>133</td>\n",
       "      <td>66</td>\n",
       "    </tr>\n",
       "  </tbody>\n",
       "</table>\n",
       "</div>"
      ],
      "text/plain": [
       "   year   MD   MO   WA   CO   TX   CA\n",
       "0  2010  771  706  163  115  129  127\n",
       "1  2011  710  681  169  106  130  123\n",
       "2  2012  746  644  174  122  119  138\n",
       "3  2013  715  653  232  130  118  140\n",
       "4  2014  604  646  151  132  111  126\n",
       "5  2015  612  829  177  172  132  123\n",
       "6  2016  643  857  191  150  133   66"
      ]
     },
     "execution_count": 36,
     "metadata": {},
     "output_type": "execute_result"
    }
   ],
   "source": [
    "year_state_per = pd.DataFrame()\n",
    "year_state_per['year'] = year_state['year'].unique()\n",
    "state_list = ['MD', 'MO', 'WA', 'CO', 'TX', 'CA']\n",
    "\n",
    "for state in state_list:\n",
    "    year_state_per[state] = year_state[year_state['state'] == state]['guns per 100,000 people'].to_list()\n",
    "\n",
    "year_state_per"
   ]
  },
  {
   "cell_type": "code",
   "execution_count": 37,
   "metadata": {},
   "outputs": [
    {
     "data": {
      "text/plain": [
       "685.8571428571429"
      ]
     },
     "execution_count": 37,
     "metadata": {},
     "output_type": "execute_result"
    }
   ],
   "source": [
    "year_state_per['MD'].mean()"
   ]
  },
  {
   "cell_type": "code",
   "execution_count": 38,
   "metadata": {},
   "outputs": [
    {
     "data": {
      "text/plain": [
       "716.5714285714286"
      ]
     },
     "execution_count": 38,
     "metadata": {},
     "output_type": "execute_result"
    }
   ],
   "source": [
    "year_state_per['MO'].mean()"
   ]
  },
  {
   "cell_type": "code",
   "execution_count": 39,
   "metadata": {},
   "outputs": [
    {
     "data": {
      "text/plain": [
       "179.57142857142858"
      ]
     },
     "execution_count": 39,
     "metadata": {},
     "output_type": "execute_result"
    }
   ],
   "source": [
    "year_state_per['WA'].mean()"
   ]
  },
  {
   "cell_type": "code",
   "execution_count": 40,
   "metadata": {},
   "outputs": [
    {
     "data": {
      "text/plain": [
       "120.42857142857143"
      ]
     },
     "execution_count": 40,
     "metadata": {},
     "output_type": "execute_result"
    }
   ],
   "source": [
    "year_state_per['CA'].mean()"
   ]
  },
  {
   "cell_type": "code",
   "execution_count": 41,
   "metadata": {},
   "outputs": [
    {
     "data": {
      "image/png": "[encoded data removed]",
      "text/plain": [
       "<Figure size 1080x540 with 1 Axes>"
      ]
     },
     "metadata": {
      "needs_background": "light"
     },
     "output_type": "display_data"
    }
   ],
   "source": [
    "show_grouped_bar(year_state_per, 'Lost/Stolen/Recovered Guns Per 100,000 People From 2010-2016 Grouped By Top States', (15, 7.5))"
   ]
  },
  {
   "cell_type": "markdown",
   "metadata": {},
   "source": [
    "From 2010 to 2013, Maryland had the highest number of reported guns with Maryland starting out at 771 guns per 100,000 people. However, the number of guns reported in Maryland started decreasing and the number of guns reported in Missourit significantly increased in 2015. From 2010 to 2016, Maryland reported an average of 685.8571428571429 guns per 100,000 people and Missouri had an average of 716.5714285714286 guns per 100,000. With Maryland and Missouri having the highest rates, the procceding highest guns are significantly lower than Maryland and MIssouri with the next highest state average from 2010 to 2016 being Washington at 179.57142857142858 guns per 100,000 It can be see that 2015 onward, skews the mean for Missouri. California had the lowest mean with 120.4285714285714 guns reported per 100,000 people. "
   ]
  },
  {
   "cell_type": "markdown",
   "metadata": {},
   "source": [
    "## Year and Offense"
   ]
  },
  {
   "cell_type": "code",
   "execution_count": 42,
   "metadata": {
    "scrolled": true
   },
   "outputs": [],
   "source": [
    "year_offense = pd.DataFrame()\n",
    "year_offense['count'] = df.groupby('year')['offense'].value_counts()\n",
    "year_offense = year_offense.reset_index()\n",
    "year_offense_location = df.groupby(['year', 'offense', 'location']).size().reset_index().rename({0: 'count'})\n",
    "year_offense['guns per 100,000 people'] = get_guns_per2(year_offense_location, year_offense)\n",
    "year_offense = year_offense.astype({'guns per 100,000 people': 'int32'})"
   ]
  },
  {
   "cell_type": "code",
   "execution_count": 43,
   "metadata": {
    "scrolled": true
   },
   "outputs": [],
   "source": [
    "# Finds recurring offenses between years to compare\n",
    "temp_list = []\n",
    "for year in year_offense['year'].unique():\n",
    "    temp_list.append(list(year_offense[year_offense['year'] == year]['offense'].head()))\n",
    "    \n",
    "recurring_offense = list(set(temp_list[0]) & set(temp_list[1]) & set(temp_list[2]) & set(temp_list[3]) & set(temp_list[4]))"
   ]
  },
  {
   "cell_type": "code",
   "execution_count": 44,
   "metadata": {},
   "outputs": [],
   "source": [
    "recurring_offense = ['HANDGUN VIOLATION', 'RECOVERED FOUND PROPERTY', 'RESIDENTIAL BURGLARY', 'FOUND PROPERTY']"
   ]
  },
  {
   "cell_type": "code",
   "execution_count": 45,
   "metadata": {},
   "outputs": [
    {
     "data": {
      "text/html": [
       "<div>\n",
       "<style scoped>\n",
       "    .dataframe tbody tr th:only-of-type {\n",
       "        vertical-align: middle;\n",
       "    }\n",
       "\n",
       "    .dataframe tbody tr th {\n",
       "        vertical-align: top;\n",
       "    }\n",
       "\n",
       "    .dataframe thead th {\n",
       "        text-align: right;\n",
       "    }\n",
       "</style>\n",
       "<table border=\"1\" class=\"dataframe\">\n",
       "  <thead>\n",
       "    <tr style=\"text-align: right;\">\n",
       "      <th></th>\n",
       "      <th>year</th>\n",
       "      <th>HANDGUN VIOLATION</th>\n",
       "      <th>RECOVERED FOUND PROPERTY</th>\n",
       "      <th>RESIDENTIAL BURGLARY</th>\n",
       "      <th>FOUND PROPERTY</th>\n",
       "    </tr>\n",
       "  </thead>\n",
       "  <tbody>\n",
       "    <tr>\n",
       "      <th>0</th>\n",
       "      <td>2010</td>\n",
       "      <td>271</td>\n",
       "      <td>52</td>\n",
       "      <td>28</td>\n",
       "      <td>7</td>\n",
       "    </tr>\n",
       "    <tr>\n",
       "      <th>1</th>\n",
       "      <td>2011</td>\n",
       "      <td>264</td>\n",
       "      <td>51</td>\n",
       "      <td>25</td>\n",
       "      <td>13</td>\n",
       "    </tr>\n",
       "    <tr>\n",
       "      <th>2</th>\n",
       "      <td>2012</td>\n",
       "      <td>279</td>\n",
       "      <td>41</td>\n",
       "      <td>27</td>\n",
       "      <td>8</td>\n",
       "    </tr>\n",
       "    <tr>\n",
       "      <th>3</th>\n",
       "      <td>2013</td>\n",
       "      <td>272</td>\n",
       "      <td>53</td>\n",
       "      <td>25</td>\n",
       "      <td>7</td>\n",
       "    </tr>\n",
       "    <tr>\n",
       "      <th>4</th>\n",
       "      <td>2014</td>\n",
       "      <td>268</td>\n",
       "      <td>37</td>\n",
       "      <td>34</td>\n",
       "      <td>6</td>\n",
       "    </tr>\n",
       "    <tr>\n",
       "      <th>5</th>\n",
       "      <td>2015</td>\n",
       "      <td>302</td>\n",
       "      <td>42</td>\n",
       "      <td>20</td>\n",
       "      <td>8</td>\n",
       "    </tr>\n",
       "    <tr>\n",
       "      <th>6</th>\n",
       "      <td>2016</td>\n",
       "      <td>347</td>\n",
       "      <td>30</td>\n",
       "      <td>19</td>\n",
       "      <td>14</td>\n",
       "    </tr>\n",
       "  </tbody>\n",
       "</table>\n",
       "</div>"
      ],
      "text/plain": [
       "   year  HANDGUN VIOLATION  RECOVERED FOUND PROPERTY  RESIDENTIAL BURGLARY  \\\n",
       "0  2010                271                        52                    28   \n",
       "1  2011                264                        51                    25   \n",
       "2  2012                279                        41                    27   \n",
       "3  2013                272                        53                    25   \n",
       "4  2014                268                        37                    34   \n",
       "5  2015                302                        42                    20   \n",
       "6  2016                347                        30                    19   \n",
       "\n",
       "   FOUND PROPERTY  \n",
       "0               7  \n",
       "1              13  \n",
       "2               8  \n",
       "3               7  \n",
       "4               6  \n",
       "5               8  \n",
       "6              14  "
      ]
     },
     "execution_count": 45,
     "metadata": {},
     "output_type": "execute_result"
    }
   ],
   "source": [
    "year_offense_per = pd.DataFrame()\n",
    "year_offense_per['year'] = year_offense['year'].unique()\n",
    "year_list = year_offense_per['year'].to_list()\n",
    "\n",
    "for offense in recurring_offense:\n",
    "    temp_list = []\n",
    "    for year in year_list:\n",
    "        temp_list.append(year_offense[(year_offense['offense'] == offense) & (year_offense['year'] == year)]['guns per 100,000 people'].to_list()[0])\n",
    "    year_offense_per[offense] = temp_list\n",
    "    \n",
    "year_offense_per"
   ]
  },
  {
   "cell_type": "code",
   "execution_count": 46,
   "metadata": {},
   "outputs": [
    {
     "data": {
      "text/plain": [
       "286.14285714285717"
      ]
     },
     "execution_count": 46,
     "metadata": {},
     "output_type": "execute_result"
    }
   ],
   "source": [
    "year_offense_per['HANDGUN VIOLATION'].mean()"
   ]
  },
  {
   "cell_type": "code",
   "execution_count": 47,
   "metadata": {},
   "outputs": [
    {
     "data": {
      "text/plain": [
       "43.714285714285715"
      ]
     },
     "execution_count": 47,
     "metadata": {},
     "output_type": "execute_result"
    }
   ],
   "source": [
    "year_offense_per['RECOVERED FOUND PROPERTY'].mean()"
   ]
  },
  {
   "cell_type": "code",
   "execution_count": 48,
   "metadata": {},
   "outputs": [
    {
     "data": {
      "text/plain": [
       "25.428571428571427"
      ]
     },
     "execution_count": 48,
     "metadata": {},
     "output_type": "execute_result"
    }
   ],
   "source": [
    "year_offense_per['RESIDENTIAL BURGLARY'].mean()"
   ]
  },
  {
   "cell_type": "code",
   "execution_count": 49,
   "metadata": {},
   "outputs": [
    {
     "data": {
      "text/plain": [
       "9.0"
      ]
     },
     "execution_count": 49,
     "metadata": {},
     "output_type": "execute_result"
    }
   ],
   "source": [
    "year_offense_per['FOUND PROPERTY'].mean()"
   ]
  },
  {
   "cell_type": "code",
   "execution_count": 50,
   "metadata": {
    "scrolled": false
   },
   "outputs": [
    {
     "data": {
      "image/png": "[encoded data removed]",
      "text/plain": [
       "<Figure size 900x720 with 1 Axes>"
      ]
     },
     "metadata": {
      "needs_background": "light"
     },
     "output_type": "display_data"
    }
   ],
   "source": [
    "show_grouped_bar(year_offense_per, 'Top Four Recurring Offenses Associated With Guns From 2010-2016', (12.5, 10))"
   ]
  },
  {
   "cell_type": "markdown",
   "metadata": {},
   "source": [
    "From 2010 to 2016, handgun violations had the highest rate of being reported with a mean of 286.14285714285717 per 100,000 people and the number of handgun violations was trending upwards. With the overall highest rate of offenses, it is no surprise that each year, handgun violations were the highest offense. The next highest offense had a significantly lower rate which was recovered found property at a mean of 43.714285714285715 per 100,000 people per year. The lowest of the top was found property which could probably be combined with recovered found property due to how different agencies report. "
   ]
  },
  {
   "cell_type": "markdown",
   "metadata": {},
   "source": [
    "## Year and Gun"
   ]
  },
  {
   "cell_type": "code",
   "execution_count": 51,
   "metadata": {
    "scrolled": true
   },
   "outputs": [],
   "source": [
    "year_gun = pd.DataFrame()\n",
    "year_gun['count'] = df.groupby('year')['gun type'].value_counts()\n",
    "year_gun = year_gun.reset_index()\n",
    "year_gun_location = df.groupby(['year', 'gun type', 'location']).size().reset_index().rename({0: 'count'})\n",
    "year_gun['guns per 100,000 people'] = get_guns_per2(year_gun_location, year_gun)\n",
    "year_gun = year_gun.astype({'guns per 100,000 people': 'int32'})"
   ]
  },
  {
   "cell_type": "code",
   "execution_count": 52,
   "metadata": {
    "scrolled": true
   },
   "outputs": [
    {
     "data": {
      "text/html": [
       "<div>\n",
       "<style scoped>\n",
       "    .dataframe tbody tr th:only-of-type {\n",
       "        vertical-align: middle;\n",
       "    }\n",
       "\n",
       "    .dataframe tbody tr th {\n",
       "        vertical-align: top;\n",
       "    }\n",
       "\n",
       "    .dataframe thead th {\n",
       "        text-align: right;\n",
       "    }\n",
       "</style>\n",
       "<table border=\"1\" class=\"dataframe\">\n",
       "  <thead>\n",
       "    <tr style=\"text-align: right;\">\n",
       "      <th></th>\n",
       "      <th>year</th>\n",
       "      <th>PISTOL</th>\n",
       "      <th>RIFLE</th>\n",
       "      <th>SHOTGUN</th>\n",
       "      <th>ALL OTHERS</th>\n",
       "      <th>RIFLE SHOTGUN COMBINATION</th>\n",
       "      <th>AMMUNITION</th>\n",
       "    </tr>\n",
       "  </thead>\n",
       "  <tbody>\n",
       "    <tr>\n",
       "      <th>0</th>\n",
       "      <td>2010</td>\n",
       "      <td>81</td>\n",
       "      <td>20</td>\n",
       "      <td>24</td>\n",
       "      <td>6</td>\n",
       "      <td>3</td>\n",
       "      <td>2</td>\n",
       "    </tr>\n",
       "    <tr>\n",
       "      <th>1</th>\n",
       "      <td>2011</td>\n",
       "      <td>77</td>\n",
       "      <td>29</td>\n",
       "      <td>23</td>\n",
       "      <td>8</td>\n",
       "      <td>4</td>\n",
       "      <td>3</td>\n",
       "    </tr>\n",
       "    <tr>\n",
       "      <th>2</th>\n",
       "      <td>2012</td>\n",
       "      <td>80</td>\n",
       "      <td>19</td>\n",
       "      <td>21</td>\n",
       "      <td>8</td>\n",
       "      <td>4</td>\n",
       "      <td>4</td>\n",
       "    </tr>\n",
       "    <tr>\n",
       "      <th>3</th>\n",
       "      <td>2013</td>\n",
       "      <td>84</td>\n",
       "      <td>28</td>\n",
       "      <td>24</td>\n",
       "      <td>6</td>\n",
       "      <td>5</td>\n",
       "      <td>5</td>\n",
       "    </tr>\n",
       "    <tr>\n",
       "      <th>4</th>\n",
       "      <td>2014</td>\n",
       "      <td>72</td>\n",
       "      <td>17</td>\n",
       "      <td>19</td>\n",
       "      <td>6</td>\n",
       "      <td>3</td>\n",
       "      <td>3</td>\n",
       "    </tr>\n",
       "    <tr>\n",
       "      <th>5</th>\n",
       "      <td>2015</td>\n",
       "      <td>87</td>\n",
       "      <td>24</td>\n",
       "      <td>18</td>\n",
       "      <td>7</td>\n",
       "      <td>5</td>\n",
       "      <td>3</td>\n",
       "    </tr>\n",
       "    <tr>\n",
       "      <th>6</th>\n",
       "      <td>2016</td>\n",
       "      <td>84</td>\n",
       "      <td>14</td>\n",
       "      <td>11</td>\n",
       "      <td>6</td>\n",
       "      <td>4</td>\n",
       "      <td>3</td>\n",
       "    </tr>\n",
       "  </tbody>\n",
       "</table>\n",
       "</div>"
      ],
      "text/plain": [
       "   year  PISTOL  RIFLE  SHOTGUN  ALL OTHERS  RIFLE SHOTGUN COMBINATION  \\\n",
       "0  2010      81     20       24           6                          3   \n",
       "1  2011      77     29       23           8                          4   \n",
       "2  2012      80     19       21           8                          4   \n",
       "3  2013      84     28       24           6                          5   \n",
       "4  2014      72     17       19           6                          3   \n",
       "5  2015      87     24       18           7                          5   \n",
       "6  2016      84     14       11           6                          4   \n",
       "\n",
       "   AMMUNITION  \n",
       "0           2  \n",
       "1           3  \n",
       "2           4  \n",
       "3           5  \n",
       "4           3  \n",
       "5           3  \n",
       "6           3  "
      ]
     },
     "execution_count": 52,
     "metadata": {},
     "output_type": "execute_result"
    }
   ],
   "source": [
    "year_gun_per = pd.DataFrame()\n",
    "year_gun_per['year'] = year_gun['year'].unique()\n",
    "gun_list = year_gun['gun type'].head(6).unique()\n",
    "\n",
    "for gun in gun_list:\n",
    "    year_gun_per[gun] = year_gun[year_gun['gun type'] == gun]['guns per 100,000 people'].to_list()\n",
    "\n",
    "year_gun_per"
   ]
  },
  {
   "cell_type": "code",
   "execution_count": 53,
   "metadata": {},
   "outputs": [
    {
     "data": {
      "text/plain": [
       "80.71428571428571"
      ]
     },
     "execution_count": 53,
     "metadata": {},
     "output_type": "execute_result"
    }
   ],
   "source": [
    "year_gun_per['PISTOL'].mean()"
   ]
  },
  {
   "cell_type": "code",
   "execution_count": 54,
   "metadata": {},
   "outputs": [
    {
     "data": {
      "text/plain": [
       "21.571428571428573"
      ]
     },
     "execution_count": 54,
     "metadata": {},
     "output_type": "execute_result"
    }
   ],
   "source": [
    "year_gun_per['RIFLE'].mean()"
   ]
  },
  {
   "cell_type": "code",
   "execution_count": 55,
   "metadata": {},
   "outputs": [
    {
     "data": {
      "text/plain": [
       "20.0"
      ]
     },
     "execution_count": 55,
     "metadata": {},
     "output_type": "execute_result"
    }
   ],
   "source": [
    "year_gun_per['SHOTGUN'].mean()"
   ]
  },
  {
   "cell_type": "code",
   "execution_count": 56,
   "metadata": {},
   "outputs": [
    {
     "data": {
      "text/plain": [
       "3.2857142857142856"
      ]
     },
     "execution_count": 56,
     "metadata": {},
     "output_type": "execute_result"
    }
   ],
   "source": [
    "year_gun_per['AMMUNITION'].mean()"
   ]
  },
  {
   "cell_type": "code",
   "execution_count": 57,
   "metadata": {},
   "outputs": [
    {
     "data": {
      "image/png": "[encoded data removed]",
      "text/plain": [
       "<Figure size 1080x720 with 1 Axes>"
      ]
     },
     "metadata": {
      "needs_background": "light"
     },
     "output_type": "display_data"
    }
   ],
   "source": [
    "show_grouped_bar(year_gun_per, 'Count Of Top Six Recurring Lost/Stolen/Recovered Guns From 2010-2016', (15, 10))"
   ]
  },
  {
   "cell_type": "markdown",
   "metadata": {},
   "source": [
    "Again, pistols are the have the highest rate of guns being reported with a mean of 80.71428571428571 per 100,000 people from 2010 to 2016 which coincides with the high rate of handgun violations. Rifles and shotguns were the next two guns with the highest rate at 21.571428571428573 and 20.0 guns per 100,000 people respectively. Ammunition was the lowest of the top of reported weapon with a mean of 3.2857142857142856 per 100,000 people from 2010 to 2016. "
   ]
  },
  {
   "cell_type": "markdown",
   "metadata": {},
   "source": [
    "## Gun and State"
   ]
  },
  {
   "cell_type": "code",
   "execution_count": 58,
   "metadata": {
    "scrolled": true
   },
   "outputs": [],
   "source": [
    "state_gun = pd.DataFrame()\n",
    "state_gun['count'] = df.groupby('state')['gun type'].value_counts()\n",
    "state_gun = state_gun.reset_index()\n",
    "state_gun_location = df.groupby(['state', 'gun type', 'location']).size().reset_index().rename({0: 'count'})\n",
    "state_gun['guns per 100,000 people'] = get_guns_per2(state_gun_location, state_gun)\n",
    "state_gun = state_gun.astype({'guns per 100,000 people': 'int32'})"
   ]
  },
  {
   "cell_type": "code",
   "execution_count": 59,
   "metadata": {
    "scrolled": true
   },
   "outputs": [],
   "source": [
    "# finds recurring guns between top states\n",
    "temp_list = []\n",
    "for state in state_df['state'].head(6):\n",
    "    temp_list.append(state_gun[state_gun['state'] == state]['gun type'].head().to_list())\n",
    "    \n",
    "recurring_guns = list(set(temp_list[0]) & set(temp_list[1]) & set(temp_list[2]) & set(temp_list[3]) & set(temp_list[4]) & set(temp_list[5]))\n",
    "recurring_guns.sort()"
   ]
  },
  {
   "cell_type": "code",
   "execution_count": 60,
   "metadata": {},
   "outputs": [
    {
     "data": {
      "text/html": [
       "<div>\n",
       "<style scoped>\n",
       "    .dataframe tbody tr th:only-of-type {\n",
       "        vertical-align: middle;\n",
       "    }\n",
       "\n",
       "    .dataframe tbody tr th {\n",
       "        vertical-align: top;\n",
       "    }\n",
       "\n",
       "    .dataframe thead th {\n",
       "        text-align: right;\n",
       "    }\n",
       "</style>\n",
       "<table border=\"1\" class=\"dataframe\">\n",
       "  <thead>\n",
       "    <tr style=\"text-align: right;\">\n",
       "      <th></th>\n",
       "      <th>state</th>\n",
       "      <th>PISTOL</th>\n",
       "      <th>RIFLE</th>\n",
       "      <th>SHOTGUN</th>\n",
       "    </tr>\n",
       "  </thead>\n",
       "  <tbody>\n",
       "    <tr>\n",
       "      <th>3</th>\n",
       "      <td>MO</td>\n",
       "      <td>4288</td>\n",
       "      <td>415</td>\n",
       "      <td>295</td>\n",
       "    </tr>\n",
       "    <tr>\n",
       "      <th>1</th>\n",
       "      <td>MD</td>\n",
       "      <td>3685</td>\n",
       "      <td>532</td>\n",
       "      <td>581</td>\n",
       "    </tr>\n",
       "    <tr>\n",
       "      <th>6</th>\n",
       "      <td>NY</td>\n",
       "      <td>1775</td>\n",
       "      <td>583</td>\n",
       "      <td>737</td>\n",
       "    </tr>\n",
       "    <tr>\n",
       "      <th>10</th>\n",
       "      <td>KS</td>\n",
       "      <td>759</td>\n",
       "      <td>283</td>\n",
       "      <td>187</td>\n",
       "    </tr>\n",
       "    <tr>\n",
       "      <th>9</th>\n",
       "      <td>AZ</td>\n",
       "      <td>816</td>\n",
       "      <td>226</td>\n",
       "      <td>130</td>\n",
       "    </tr>\n",
       "    <tr>\n",
       "      <th>4</th>\n",
       "      <td>WA</td>\n",
       "      <td>737</td>\n",
       "      <td>260</td>\n",
       "      <td>152</td>\n",
       "    </tr>\n",
       "  </tbody>\n",
       "</table>\n",
       "</div>"
      ],
      "text/plain": [
       "   state  PISTOL  RIFLE  SHOTGUN\n",
       "3     MO    4288    415      295\n",
       "1     MD    3685    532      581\n",
       "6     NY    1775    583      737\n",
       "10    KS     759    283      187\n",
       "9     AZ     816    226      130\n",
       "4     WA     737    260      152"
      ]
     },
     "execution_count": 60,
     "metadata": {},
     "output_type": "execute_result"
    }
   ],
   "source": [
    "state_gun_per = pd.DataFrame()\n",
    "state_gun_per['state'] = state_df['state'].head(6)\n",
    "\n",
    "for gun in recurring_guns:\n",
    "    gun_state_per= []\n",
    "    for state in state_df['state'].head(6):\n",
    "        gun_state_per.append(list(state_gun[(state_gun['gun type'] == gun) & (state_gun['state'] == state)]['guns per 100,000 people'])[0])\n",
    "    state_gun_per[gun] = gun_state_per\n",
    "    \n",
    "state_gun_per"
   ]
  },
  {
   "cell_type": "code",
   "execution_count": 61,
   "metadata": {},
   "outputs": [
    {
     "data": {
      "image/png": "[encoded data removed]",
      "text/plain": [
       "<Figure size 720x540 with 1 Axes>"
      ]
     },
     "metadata": {
      "needs_background": "light"
     },
     "output_type": "display_data"
    }
   ],
   "source": [
    "show_grouped_bar(state_gun_per, 'Top Three Recurring Lost/Stolen/Recovered Guns In Top Six States Per 100,000 People', (10,7.5))"
   ]
  },
  {
   "cell_type": "markdown",
   "metadata": {},
   "source": [
    "When comparing the top states and the top guns, Missori has the highest number of pistols at a rate of 4288 per 100,000 people with Maryland following behind at a rate of 3685 rifles reported per 100,000 people. The it begins to signifiacntly decline with New York with a reported rate of 1765 pistols per 100,000 people. "
   ]
  },
  {
   "cell_type": "markdown",
   "metadata": {},
   "source": [
    "## Chi-Square Tests Of Homogeneity"
   ]
  },
  {
   "cell_type": "code",
   "execution_count": 62,
   "metadata": {},
   "outputs": [],
   "source": [
    "def chi2_dist_plot(dof):\n",
    "    dist = stats.chi2(df=dof)\n",
    "    fig = plt.figure(figsize=(10,10))\n",
    "    x = np.linspace(dist.ppf(0.0000000001), dist.ppf(0.9999), 100)\n",
    "    plt.plot(x, dist.pdf(x))\n",
    "    plt.plot([dist.ppf(0.95), dist.ppf(0.95)],[0, dist.pdf(dist.ppf(0.95))], linestyle='dotted', color='#1f77b4')\n",
    "    X_fill = np.linspace(dist.ppf(0.95), dist.ppf(0.9999))\n",
    "    Y = dist.pdf(X_fill)\n",
    "    plt.fill_between(X_fill, 0, Y, facecolor='red')\n",
    "    plt.ylim(bottom=0)\n",
    "    plt.xlabel('Chi-Square Statistic')\n",
    "    plt.ylabel('Probability Density Function')\n",
    "    title = 'Chi-Square Distribution with {} Degrees of Freedom'.format(dof)\n",
    "    fig.suptitle(title, fontsize=15, y=0.92)\n",
    "    plt.show()"
   ]
  },
  {
   "cell_type": "code",
   "execution_count": 63,
   "metadata": {
    "scrolled": true
   },
   "outputs": [
    {
     "name": "stdout",
     "output_type": "stream",
     "text": [
      "Test statistic: 21.576773191082683\n",
      "p-value: 0.8689908076261699\n",
      "Degrees of freedom: 30\n",
      "Expected values: [[107.4809983  104.02779353 104.89109472 115.25070902 107.0493477\n",
      "  116.9773114  105.32274532]\n",
      " [ 82.3408962   79.69540556  80.35677822  88.29325014  82.01020987\n",
      "   89.61599546  80.68746455]\n",
      " [ 38.55757232  37.31877482  37.62847419  41.3448667   38.40272263\n",
      "   41.96426546  37.78332388]\n",
      " [ 11.44015882  11.07260352  11.16449234  12.26715825  11.39421441\n",
      "   12.4509359   11.21043676]\n",
      " [  7.20306296   6.97163925   7.02949518   7.72376631   7.174135\n",
      "    7.83947816   7.05842314]\n",
      " [  1.9773114    1.91378332   1.92966534   2.12024957   1.96937039\n",
      "    2.15201361   1.93760635]]\n"
     ]
    }
   ],
   "source": [
    "obs = []\n",
    "for status in year_status_per.columns[1:]:\n",
    "    obs.append(list(year_status_per[status]))\n",
    "    \n",
    "chi2, p, dof, ex = stats.chi2_contingency(obs)\n",
    "\n",
    "print('Test statistic:', chi2)\n",
    "print('p-value:', p)\n",
    "print('Degrees of freedom:', dof)\n",
    "print('Expected values:', ex)"
   ]
  },
  {
   "cell_type": "markdown",
   "metadata": {},
   "source": [
    "H<sub>0</sub> = The proportions of reported guns from 2010 to 2016 are the same for all statuses\n",
    "\n",
    "H<sub>a</sub> = The proportions of reported guns from 2010 to 2016 are different for all statuses\n",
    "\n",
    "We accept the null hypothesis since the p-value is higher than the signifance level of 0.05"
   ]
  },
  {
   "cell_type": "code",
   "execution_count": 64,
   "metadata": {},
   "outputs": [
    {
     "data": {
      "image/png": "[encoded data removed]",
      "text/plain": [
       "<Figure size 720x720 with 1 Axes>"
      ]
     },
     "metadata": {
      "needs_background": "light"
     },
     "output_type": "display_data"
    }
   ],
   "source": [
    "chi2_dist_plot(dof)"
   ]
  },
  {
   "cell_type": "code",
   "execution_count": 65,
   "metadata": {},
   "outputs": [
    {
     "name": "stdout",
     "output_type": "stream",
     "text": [
      "Test statistic: 153.81348393055367\n",
      "p-value: 1.4083454919058736e-18\n",
      "Degrees of freedom: 30\n",
      "Expected values: [[703.90864684 671.70596384 680.10666375 695.85797609 619.55161855\n",
      "  715.80963838 714.05949256]\n",
      " [735.43132108 701.78652668 710.56342957 727.02012248 647.29658793\n",
      "  747.86526684 746.03674541]\n",
      " [184.29768154 175.86636045 178.06583552 182.18985127 162.21128609\n",
      "  187.41360455 186.95538058]\n",
      " [135.91404199 129.69619423 131.31824147 134.35958005 119.62598425\n",
      "  138.21194226 137.87401575]\n",
      " [127.85010207 122.00116652 123.52697579 126.38786818 112.52843395\n",
      "  130.01166521 129.69378828]\n",
      " [123.59820647 117.94378828 119.41885389 122.18460192 108.78608924\n",
      "  125.68788276 125.38057743]]\n"
     ]
    }
   ],
   "source": [
    "obs = []\n",
    "for state in year_state_per.columns[1:]:\n",
    "    obs.append(list(year_state_per[state]))\n",
    "    \n",
    "chi2, p, dof, ex = stats.chi2_contingency(obs)\n",
    "\n",
    "print('Test statistic:', chi2)\n",
    "print('p-value:', p)\n",
    "print('Degrees of freedom:', dof)\n",
    "print('Expected values:', ex)"
   ]
  },
  {
   "cell_type": "markdown",
   "metadata": {},
   "source": [
    "H<sub>0</sub> = The proportions of reported guns from 2010 to 2016 are the same for the top six states\n",
    "\n",
    "H<sub>a</sub> = The proportions of reported guns from 2010 to 2016 are different for the top six states\n",
    "\n",
    "We reject the null hypothesis since the p-value is below the significance level of 0.05"
   ]
  },
  {
   "cell_type": "code",
   "execution_count": 66,
   "metadata": {},
   "outputs": [
    {
     "data": {
      "image/png": "[encoded data removed]",
      "text/plain": [
       "<Figure size 720x720 with 1 Axes>"
      ]
     },
     "metadata": {
      "needs_background": "light"
     },
     "output_type": "display_data"
    }
   ],
   "source": [
    "chi2_dist_plot(dof)"
   ]
  },
  {
   "cell_type": "code",
   "execution_count": 67,
   "metadata": {},
   "outputs": [
    {
     "name": "stdout",
     "output_type": "stream",
     "text": [
      "Test statistic: 73.70651504320581\n",
      "p-value: 7.084564030605049e-14\n",
      "Degrees of freedom: 6\n",
      "Expected values: [[722.32627075 680.26800448 679.77895487 669.0198635  611.31200978\n",
      "  704.72048487 733.57441173]\n",
      " [754.67372925 710.73199552 710.22104513 698.9801365  638.68799022\n",
      "  736.27951513 766.42558827]]\n"
     ]
    }
   ],
   "source": [
    "chi2, p, dof, ex = stats.chi2_contingency([list(year_state_per['MD']), list(year_state_per['MO'])])\n",
    "\n",
    "print('Test statistic:', chi2)\n",
    "print('p-value:', p)\n",
    "print('Degrees of freedom:', dof)\n",
    "print('Expected values:', ex)"
   ]
  },
  {
   "cell_type": "markdown",
   "metadata": {},
   "source": [
    "H<sub>0</sub> = The proportions of reported guns from 2010 to 2016 are the same for MD and MO\n",
    "\n",
    "H<sub>a</sub> = The proportions of reported guns from 2010 to 2016 are different for MD and MO\n",
    "\n",
    "We reject the null hypothesis since the p-value is lower than the significance level of 0.05"
   ]
  },
  {
   "cell_type": "code",
   "execution_count": 68,
   "metadata": {},
   "outputs": [
    {
     "name": "stdout",
     "output_type": "stream",
     "text": [
      "Test statistic: 10.289247777107002\n",
      "p-value: 0.11298783791020817\n",
      "Degrees of freedom: 6\n",
      "Expected values: [[125.72984992 121.60755976 124.18399111 127.790995   125.21456365\n",
      "  156.64702613 145.82601445]\n",
      " [118.27015008 114.39244024 116.81600889 120.209005   117.78543635\n",
      "  147.35297387 137.17398555]]\n"
     ]
    }
   ],
   "source": [
    "chi2, p, dof, ex = stats.chi2_contingency([list(year_state_per['CO']), list(year_state_per['TX'])])\n",
    "\n",
    "print('Test statistic:', chi2)\n",
    "print('p-value:', p)\n",
    "print('Degrees of freedom:', dof)\n",
    "print('Expected values:', ex)"
   ]
  },
  {
   "cell_type": "markdown",
   "metadata": {},
   "source": [
    "H<sub>0</sub> = The proportions of reported guns from 2010 to 2016 are the same for CO and TX\n",
    "\n",
    "H<sub>a</sub> = The proportions of reported guns from 2010 to 2016 are different for CO and TX\n",
    "\n",
    "We accept the null hypothesis since the p-value is higher than the significance level of 0.05"
   ]
  },
  {
   "cell_type": "code",
   "execution_count": 69,
   "metadata": {},
   "outputs": [
    {
     "name": "stdout",
     "output_type": "stream",
     "text": [
      "Test statistic: 26.832035451310134\n",
      "p-value: 0.00015568360785323427\n",
      "Degrees of freedom: 6\n",
      "Expected values: [[130.16443149 128.63906706 130.6728863  131.18134111 120.50379009\n",
      "  129.65597668 101.18250729]\n",
      " [125.83556851 124.36093294 126.3271137  126.81865889 116.49620991\n",
      "  125.34402332  97.81749271]]\n"
     ]
    }
   ],
   "source": [
    "chi2, p, dof, ex = stats.chi2_contingency([list(year_state_per['TX']), list(year_state_per['CA'])])\n",
    "\n",
    "print('Test statistic:', chi2)\n",
    "print('p-value:', p)\n",
    "print('Degrees of freedom:', dof)\n",
    "print('Expected values:', ex)"
   ]
  },
  {
   "cell_type": "markdown",
   "metadata": {},
   "source": [
    "H<sub>0</sub> = The proportions of reported guns from 2010 to 2016 are the same for TX and CA\n",
    "\n",
    "H<sub>a</sub> = The proportions of reported guns from 2010 to 2016 are different for TX and CA\n",
    "\n",
    "We reject the null hypothesis since the p-value is lower than the significance level of 0.05"
   ]
  },
  {
   "cell_type": "code",
   "execution_count": 70,
   "metadata": {},
   "outputs": [
    {
     "data": {
      "image/png": "[encoded data removed]",
      "text/plain": [
       "<Figure size 720x720 with 1 Axes>"
      ]
     },
     "metadata": {
      "needs_background": "light"
     },
     "output_type": "display_data"
    }
   ],
   "source": [
    "chi2_dist_plot(dof)"
   ]
  },
  {
   "cell_type": "code",
   "execution_count": 71,
   "metadata": {},
   "outputs": [
    {
     "name": "stdout",
     "output_type": "stream",
     "text": [
      "Test statistic: 32.36755554069049\n",
      "p-value: 0.019882768953922575\n",
      "Degrees of freedom: 18\n",
      "Expected values: [[281.2054902  277.27803922 278.84901961 280.42       270.99411765\n",
      "  292.20235294 322.05098039]\n",
      " [ 42.96        42.36        42.6         42.84        41.4\n",
      "   44.64        49.2       ]\n",
      " [ 24.98980392  24.64078431  24.78039216  24.92        24.08235294\n",
      "   25.96705882  28.61960784]\n",
      " [  8.84470588   8.72117647   8.77058824   8.82         8.52352941\n",
      "    9.19058824  10.12941176]]\n"
     ]
    }
   ],
   "source": [
    "obs = []\n",
    "for offense in year_offense_per.columns[1:]:\n",
    "    obs.append(list(year_offense_per[offense]))\n",
    "\n",
    "chi2, p, dof, ex = stats.chi2_contingency(obs)\n",
    "\n",
    "print('Test statistic:', chi2)\n",
    "print('p-value:', p)\n",
    "print('Degrees of freedom:', dof)\n",
    "print('Expected values:', ex)"
   ]
  },
  {
   "cell_type": "markdown",
   "metadata": {},
   "source": [
    "H<sub>0</sub> = The proportions of reported guns from 2010 to 2016 are the same for the top four recurring offenses\n",
    "\n",
    "H<sub>a</sub> = The proportions of reported guns from 2010 to 2016 are different for the top four recurring offenses\n",
    "\n",
    "We reject the null hypothesis since the p-value is lower than the significance level of 0.05"
   ]
  },
  {
   "cell_type": "code",
   "execution_count": 72,
   "metadata": {},
   "outputs": [
    {
     "data": {
      "image/png": "[encoded data removed]",
      "text/plain": [
       "<Figure size 720x720 with 1 Axes>"
      ]
     },
     "metadata": {
      "needs_background": "light"
     },
     "output_type": "display_data"
    }
   ],
   "source": [
    "chi2_dist_plot(dof)"
   ]
  },
  {
   "cell_type": "code",
   "execution_count": 73,
   "metadata": {},
   "outputs": [
    {
     "name": "stdout",
     "output_type": "stream",
     "text": [
      "Test statistic: 14.655329238361515\n",
      "p-value: 0.9915470182571325\n",
      "Degrees of freedom: 30\n",
      "Expected values: [[80.54507338 85.28301887 80.54507338 90.02096436 71.06918239 85.28301887\n",
      "  72.25366876]\n",
      " [21.52620545 22.79245283 21.52620545 24.05870021 18.99371069 22.79245283\n",
      "  19.31027254]\n",
      " [19.95807128 21.13207547 19.95807128 22.30607966 17.61006289 21.13207547\n",
      "  17.90356394]\n",
      " [ 6.70020964  7.09433962  6.70020964  7.4884696   5.91194969  7.09433962\n",
      "   6.01048218]\n",
      " [ 3.99161426  4.22641509  3.99161426  4.46121593  3.52201258  4.22641509\n",
      "   3.58071279]\n",
      " [ 3.278826    3.47169811  3.278826    3.66457023  2.89308176  3.47169811\n",
      "   2.94129979]]\n"
     ]
    }
   ],
   "source": [
    "obs = []\n",
    "for gun in year_gun_per.columns[1:]:\n",
    "    obs.append(list(year_gun_per[gun]))\n",
    "\n",
    "chi2, p, dof, ex = stats.chi2_contingency(obs)\n",
    "\n",
    "print('Test statistic:', chi2)\n",
    "print('p-value:', p)\n",
    "print('Degrees of freedom:', dof)\n",
    "print('Expected values:', ex)"
   ]
  },
  {
   "cell_type": "markdown",
   "metadata": {},
   "source": [
    "H<sub>0</sub> = The proportions of reported guns from 2010 to 2016 are the same for the top six guns\n",
    "\n",
    "H<sub>a</sub> = The proportions of reported guns from 2010 to 2016 are different for the top six guns\n",
    "\n",
    "We accept the null hypothesis since the p-value is higher than the significance level of 0.05"
   ]
  },
  {
   "cell_type": "code",
   "execution_count": 74,
   "metadata": {},
   "outputs": [
    {
     "data": {
      "image/png": "[encoded data removed]",
      "text/plain": [
       "<Figure size 720x720 with 1 Axes>"
      ]
     },
     "metadata": {
      "needs_background": "light"
     },
     "output_type": "display_data"
    }
   ],
   "source": [
    "chi2_dist_plot(dof)"
   ]
  },
  {
   "cell_type": "code",
   "execution_count": 81,
   "metadata": {},
   "outputs": [
    {
     "name": "stdout",
     "output_type": "stream",
     "text": [
      "Test statistic: 1106.6660221068616\n",
      "p-value: 1.92933157189664e-231\n",
      "Degrees of freedom: 10\n",
      "Expected values: [[3666.19305395 3519.48664923 2270.28161304  901.510857    859.69953166\n",
      "   842.82829512]\n",
      " [ 698.88705067  670.92038197  432.78419804  171.85517913  163.88467855\n",
      "   160.66851165]\n",
      " [ 632.91989538  607.5929688   391.93418892  155.63396387  148.41578979\n",
      "   145.50319324]]\n"
     ]
    }
   ],
   "source": [
    "chi2, p, dof, ex = stats.chi2_contingency([list(state_gun_per['PISTOL']), list(state_gun_per['RIFLE']), list(state_gun_per['SHOTGUN'])])\n",
    "\n",
    "print('Test statistic:', chi2)\n",
    "print('p-value:', p)\n",
    "print('Degrees of freedom:', dof)\n",
    "print('Expected values:', ex)"
   ]
  },
  {
   "cell_type": "markdown",
   "metadata": {},
   "source": [
    "H<sub>0</sub> = The proportions of guns reported in the top six states are the same for pistols, rifles, and shotguns\n",
    "\n",
    "H<sub>a</sub> = The proportions of guns reported in the top six states are different for pistols, rifles, and shotguns\n",
    "\n",
    "We reject the null hypothesis since the p-value is lower than the significance level of 0.05"
   ]
  },
  {
   "cell_type": "code",
   "execution_count": 82,
   "metadata": {},
   "outputs": [
    {
     "data": {
      "image/png": "[encoded data removed]",
      "text/plain": [
       "<Figure size 720x720 with 1 Axes>"
      ]
     },
     "metadata": {
      "needs_background": "light"
     },
     "output_type": "display_data"
    }
   ],
   "source": [
    "chi2_dist_plot(dof)"
   ]
  },
  {
   "cell_type": "markdown",
   "metadata": {},
   "source": [
    "# Conclusion"
   ]
  },
  {
   "cell_type": "markdown",
   "metadata": {},
   "source": [
    "Among the guns reported, pistols always had the highest rate of guns reported per 100,000 people from 2010 to 2016 among the top stats. And due to the high number of pistols, handgun violations were also one of the most recurring offenses that was observed from 2010 to 2016 among the top states. Luckily, the guns most of time were recovered by law enfocement from 2010 to 2016 among the top states. Missouri and Maryland were the top states from 2010 to 2016. "
   ]
  }
 ],
 "metadata": {
  "kernelspec": {
   "display_name": "Python 3",
   "language": "python",
   "name": "python3"
  },
  "language_info": {
   "codemirror_mode": {
    "name": "ipython",
    "version": 3
   },
   "file_extension": ".py",
   "mimetype": "text/x-python",
   "name": "python",
   "nbconvert_exporter": "python",
   "pygments_lexer": "ipython3",
   "version": "3.7.1"
  }
 },
 "nbformat": 4,
 "nbformat_minor": 2
}
